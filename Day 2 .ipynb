{
 "cells": [
  {
   "cell_type": "code",
   "execution_count": 5,
   "metadata": {},
   "outputs": [
    {
     "ename": "TypeError",
     "evalue": "'float' object is not callable",
     "output_type": "error",
     "traceback": [
      "\u001b[1;31m---------------------------------------------------------------------------\u001b[0m",
      "\u001b[1;31mTypeError\u001b[0m                                 Traceback (most recent call last)",
      "Cell \u001b[1;32mIn[5], line 2\u001b[0m\n\u001b[0;32m      1\u001b[0m \u001b[38;5;66;03m#we usualy count from 0 in programming\u001b[39;00m\n\u001b[1;32m----> 2\u001b[0m \u001b[38;5;28mprint\u001b[39m(\u001b[38;5;124m\"\u001b[39m\u001b[38;5;124mhello\u001b[39m\u001b[38;5;124m\"\u001b[39m [\u001b[38;5;241m4\u001b[39m])\n\u001b[0;32m      3\u001b[0m \u001b[38;5;66;03m#wecan use negative numbers while counting backwords \u001b[39;00m\n\u001b[0;32m      4\u001b[0m \u001b[38;5;28mprint\u001b[39m(\u001b[38;5;124m\"\u001b[39m\u001b[38;5;124mhello\u001b[39m\u001b[38;5;124m\"\u001b[39m[\u001b[38;5;241m-\u001b[39m\u001b[38;5;241m1\u001b[39m])\n",
      "\u001b[1;31mTypeError\u001b[0m: 'float' object is not callable"
     ]
    }
   ],
   "source": [
    "#we usualy count from 0 in programming\n",
    "print(\"hello\" [4])\n",
    "#wecan use negative numbers while counting backwords \n",
    "print(\"hello\"[-1])"
   ]
  },
  {
   "cell_type": "code",
   "execution_count": null,
   "metadata": {},
   "outputs": [
    {
     "name": "stdout",
     "output_type": "stream",
     "text": [
      "12345\n"
     ]
    }
   ],
   "source": [
    "#strings\n",
    "print(\"hello\") #word str\n",
    "print(\"123\" + \"45\") #number str\n",
    "#integer = only whole numbers\n",
    "print(25+25)\n",
    "print(25*4)\n",
    "#float = floating point numbers\n",
    "print(15.5)\n",
    "#boolean = true or false\n",
    "print(True)\n",
    "print(False)"
   ]
  },
  {
   "cell_type": "code",
   "execution_count": null,
   "metadata": {},
   "outputs": [
    {
     "name": "stdout",
     "output_type": "stream",
     "text": [
      "<class 'int'>\n",
      "<class 'str'>\n",
      "<class 'float'>\n",
      "<class 'bool'>\n"
     ]
    }
   ],
   "source": [
    "#data types that I have lerned\n",
    "print(type(123))\n",
    "print(type(\"hello\"))\n",
    "print(type(1.5))\n",
    "print(type(True))"
   ]
  },
  {
   "cell_type": "code",
   "execution_count": null,
   "metadata": {},
   "outputs": [
    {
     "name": "stdout",
     "output_type": "stream",
     "text": [
      "123456\n",
      "579\n"
     ]
    }
   ],
   "source": [
    "#type casting\n",
    "print(\"123\"+\"456\") # = 123456\n",
    "#         l\n",
    "#         V\n",
    "print(int(\"123\") + int(\"456\")) #uses the math to combine\n",
    "# print(int(\"abc\") + int(\"123\"))  ->❌"
   ]
  },
  {
   "cell_type": "code",
   "execution_count": null,
   "metadata": {},
   "outputs": [
    {
     "name": "stdout",
     "output_type": "stream",
     "text": [
      "the leters in your name 1\n"
     ]
    }
   ],
   "source": [
    "print('the leters in your name' + \" \" + str(len(input(\"enter your name\"))))"
   ]
  },
  {
   "cell_type": "code",
   "execution_count": null,
   "metadata": {},
   "outputs": [
    {
     "name": "stdout",
     "output_type": "stream",
     "text": [
      "14\n",
      "0\n",
      "64\n",
      "1.0\n",
      "3\n",
      "16777216\n"
     ]
    }
   ],
   "source": [
    "#appirations in math using Python\n",
    "print(7+7)\n",
    "print(7-7)\n",
    "print(8*8)\n",
    "print(9/9)\n",
    "print(9//3)\n",
    "print(8**8)\n",
    "# first \"()\"\n",
    "# secound\"*\"\n",
    "#third \"/\"\n",
    "#then it calculates from leftto right"
   ]
  },
  {
   "cell_type": "code",
   "execution_count": null,
   "metadata": {},
   "outputs": [
    {
     "name": "stdout",
     "output_type": "stream",
     "text": [
      "2.3333333333333335\n",
      "2\n",
      "2\n",
      "2.14\n"
     ]
    }
   ],
   "source": [
    "#Int -> gives the whole number / floring\n",
    "#round-> gives the rounded number\n",
    "#rounding-> 0.4=0    rounding-> 0.5=1\n",
    "a = (7/3)\n",
    "print(a)\n",
    "print(round(a))\n",
    "print(int(a))\n",
    "#while rounding we can easily write how many numbers we want to see after\".\" by adding \", + the number of numbers we want to see after .\"\n",
    "a = 2.136525\n",
    "print(round(a, 2))"
   ]
  },
  {
   "cell_type": "code",
   "execution_count": 2,
   "metadata": {},
   "outputs": [
    {
     "name": "stdout",
     "output_type": "stream",
     "text": [
      "0\n",
      "1\n",
      "0\n",
      "your score is: 0\n"
     ]
    }
   ],
   "source": [
    "#the way to use +=/-=\n",
    "user_score = 0\n",
    "print(user_score)\n",
    "user_score += 1\n",
    "print(user_score)\n",
    "user_score -= 1\n",
    "print(user_score)\n",
    "\n",
    "print(\"your score is:\" + \" \" + str(user_score))"
   ]
  },
  {
   "cell_type": "code",
   "execution_count": 3,
   "metadata": {},
   "outputs": [
    {
     "name": "stdout",
     "output_type": "stream",
     "text": [
      "Each person should pay: $0.53\n"
     ]
    }
   ],
   "source": [
    "a = float(input(\"Enter the whole price: \"))\n",
    "b = int(input(\"Enter the number of people: \"))\n",
    "c = float(input(\"Enter the tip percentage: \"))\n",
    "\n",
    "c1 = c / 100\n",
    "c2 = a * c1\n",
    "c3 = a + c2\n",
    "c4 = c3 / b\n",
    "c5 = round(c4, 2)  # Round to 2 decimal places for more accuracy\n",
    "\n",
    "print(f\"Each person should pay: ${c5}\")\n"
   ]
  }
 ],
 "metadata": {
  "kernelspec": {
   "display_name": "base",
   "language": "python",
   "name": "python3"
  },
  "language_info": {
   "codemirror_mode": {
    "name": "ipython",
    "version": 3
   },
   "file_extension": ".py",
   "mimetype": "text/x-python",
   "name": "python",
   "nbconvert_exporter": "python",
   "pygments_lexer": "ipython3",
   "version": "3.12.4"
  }
 },
 "nbformat": 4,
 "nbformat_minor": 2
}
