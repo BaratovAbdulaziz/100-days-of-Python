{
 "cells": [
  {
   "cell_type": "markdown",
   "metadata": {},
   "source": [
    "# day 10\n",
    "\n",
    "## making calc"
   ]
  },
  {
   "cell_type": "markdown",
   "metadata": {},
   "source": [
    "# learning function title"
   ]
  },
  {
   "cell_type": "code",
   "execution_count": 8,
   "metadata": {},
   "outputs": [
    {
     "name": "stdout",
     "output_type": "stream",
     "text": [
      "Hello \n"
     ]
    }
   ],
   "source": [
    "# Day 10 Functions\n",
    "def personal_info():\n",
    "    name = input(\"enter your name:\\n\").title()\n",
    "    last_name = input(\"enter your lastname\").title()\n",
    "    print(f\"Hello{last_name} {name}\")\n",
    "personal_info()"
   ]
  },
  {
   "cell_type": "markdown",
   "metadata": {},
   "source": [
    "# first project (checking the year weather the year is leap or not)"
   ]
  },
  {
   "cell_type": "code",
   "execution_count": 1,
   "metadata": {},
   "outputs": [
    {
     "name": "stdout",
     "output_type": "stream",
     "text": [
      "2012 is a leap year.\n"
     ]
    }
   ],
   "source": [
    "year = input(\"Enter the year you want to check: \")\n",
    "year = int(year) \n",
    "\n",
    "if year % 4 == 0:  \n",
    "    if year % 100 != 0:  \n",
    "          print(f\"{year} is a leap year.\")\n",
    "    elif year % 400 == 0: \n",
    "        print(f\"{year} is a leap year.\")\n",
    "    else:\n",
    "        print(f\"{year} is not a leap year.\")\n",
    "else:\n",
    "    print(f\"{year} is not a leap year.\")\n"
   ]
  },
  {
   "cell_type": "markdown",
   "metadata": {},
   "source": [
    "# secound project: writing a discription for our function\n",
    "# rewrited the code on my own"
   ]
  },
  {
   "cell_type": "code",
   "execution_count": 4,
   "metadata": {},
   "outputs": [
    {
     "name": "stdout",
     "output_type": "stream",
     "text": [
      "it is not a leap year\n"
     ]
    }
   ],
   "source": [
    "year = int(input(\"enter the year\"))\n",
    "def leap_year(year):\n",
    "    '''takes the year and tells us is it leap year or not'''\n",
    "    if year % 4 == 0:\n",
    "        if year % 100 != 0:\n",
    "            print(\"it is a leap year\")\n",
    "        elif year % 400 ==0:\n",
    "            print( \"it is a leap year\")\n",
    "        else:\n",
    "            print(\"it is not a leap year\")\n",
    "    else:\n",
    "        print(\"it is not a leap year\")"
   ]
  },
  {
   "cell_type": "markdown",
   "metadata": {},
   "source": [
    "# __*final project (calc)*__"
   ]
  },
  {
   "cell_type": "code",
   "execution_count": 9,
   "metadata": {},
   "outputs": [
    {
     "ename": "ValueError",
     "evalue": "invalid literal for int() with base 10: ''",
     "output_type": "error",
     "traceback": [
      "\u001b[1;31m---------------------------------------------------------------------------\u001b[0m",
      "\u001b[1;31mValueError\u001b[0m                                Traceback (most recent call last)",
      "Cell \u001b[1;32mIn[9], line 25\u001b[0m\n\u001b[0;32m     23\u001b[0m     \u001b[38;5;28;01melif\u001b[39;00m yes_no \u001b[38;5;241m==\u001b[39m \u001b[38;5;124m\"\u001b[39m\u001b[38;5;124mno\u001b[39m\u001b[38;5;124m\"\u001b[39m:\n\u001b[0;32m     24\u001b[0m         calc()\n\u001b[1;32m---> 25\u001b[0m calc()\n",
      "Cell \u001b[1;32mIn[9], line 2\u001b[0m, in \u001b[0;36mcalc\u001b[1;34m()\u001b[0m\n\u001b[0;32m      1\u001b[0m \u001b[38;5;28;01mdef\u001b[39;00m \u001b[38;5;21mcalc\u001b[39m():\n\u001b[1;32m----> 2\u001b[0m     first_number \u001b[38;5;241m=\u001b[39m \u001b[38;5;28mint\u001b[39m(\u001b[38;5;28minput\u001b[39m(\u001b[38;5;124m\"\u001b[39m\u001b[38;5;124menter the first number\u001b[39m\u001b[38;5;124m\"\u001b[39m))\n\u001b[0;32m      3\u001b[0m     secound_number \u001b[38;5;241m=\u001b[39m \u001b[38;5;28mint\u001b[39m(\u001b[38;5;28minput\u001b[39m(\u001b[38;5;124m\"\u001b[39m\u001b[38;5;124menter the secound number\u001b[39m\u001b[38;5;124m\"\u001b[39m))\n\u001b[0;32m      4\u001b[0m     math_operation \u001b[38;5;241m=\u001b[39m \u001b[38;5;28minput\u001b[39m(\u001b[38;5;124m\"\u001b[39m\u001b[38;5;124mChoose an operation from the following:\u001b[39m\u001b[38;5;130;01m\\n\u001b[39;00m\u001b[38;5;124m+ for addition\u001b[39m\u001b[38;5;130;01m\\n\u001b[39;00m\u001b[38;5;124m- for subtraction\u001b[39m\u001b[38;5;130;01m\\n\u001b[39;00m\u001b[38;5;124m/ for division\u001b[39m\u001b[38;5;130;01m\\n\u001b[39;00m\u001b[38;5;124m* for multiplication\u001b[39m\u001b[38;5;130;01m\\n\u001b[39;00m\u001b[38;5;124m// for floor division\u001b[39m\u001b[38;5;130;01m\\n\u001b[39;00m\u001b[38;5;124m** for exponentiation\u001b[39m\u001b[38;5;124m\"\u001b[39m)\n",
      "\u001b[1;31mValueError\u001b[0m: invalid literal for int() with base 10: ''"
     ]
    }
   ],
   "source": [
    "def calc():\n",
    "    first_number = int(input(\"enter the first number\"))\n",
    "    secound_number = int(input(\"enter the secound number\"))\n",
    "    math_operation = input(\"Choose an operation from the following:\\n+ for addition\\n- for subtraction\\n/ for division\\n* for multiplication\\n// for floor division\\n** for exponentiation\")\n",
    "    result = 0\n",
    "    \n",
    "    if math_operation == \"+\":\n",
    "        result= first_number + secound_number\n",
    "    elif math_operation == \"-\":\n",
    "        result= first_number - secound_number\n",
    "    elif math_operation == \"/\":\n",
    "        result= first_number / secound_number\n",
    "    elif math_operation == \"*\":\n",
    "        result= first_number * secound_number\n",
    "    elif math_operation == \"//\":\n",
    "        result= first_number // secound_number\n",
    "    elif math_operation == \"**\":\n",
    "        result= first_number ** secound_number\n",
    "    print(result)\n",
    "    yes_no = input(\"do you want to use the result as the first number\")\n",
    "    if yes_no == \"yes\":\n",
    "        first_number = result\n",
    "        secound_number = int(input(\"enter the secound number\"))\n",
    "        math_operation = input(\"Choose an operation from the following:\\n+ for addition\\n- for subtraction\\n/ for division\\n* for multiplication\\n// for floor division\\n** for exponentiation\")\n",
    "    \n",
    "        if math_operation == \"+\":\n",
    "            result= first_number + secound_number\n",
    "        elif math_operation == \"-\":\n",
    "            result= first_number - secound_number\n",
    "        elif math_operation == \"/\":\n",
    "            result= first_number / secound_number\n",
    "        elif math_operation == \"*\":\n",
    "            result= first_number * secound_number\n",
    "        elif math_operation == \"//\":\n",
    "            result= first_number // secound_number\n",
    "        elif math_operation == \"**\":\n",
    "            result= first_number ** secound_number\n",
    "    print(result)\n",
    "        elif yes_no == \"no\":\n",
    "            calc()\n",
    "calc()"
   ]
  },
  {
   "cell_type": "markdown",
   "metadata": {},
   "source": [
    "# __**edited by GPT**__"
   ]
  },
  {
   "cell_type": "code",
   "execution_count": null,
   "metadata": {},
   "outputs": [],
   "source": [
    "def calc():\n",
    "    first_number = int(input(\"Enter the first number: \"))\n",
    "    second_number = int(input(\"Enter the second number: \"))\n",
    "    math_operation = input(\"Choose an operation from the following:\\n+ for addition\\n- for subtraction\\n/ for division\\n* for multiplication\\n// for floor division\\n** for exponentiation: \")\n",
    "    \n",
    "    result = 0\n",
    "\n",
    "    if math_operation == \"+\":\n",
    "        result = first_number + second_number\n",
    "    elif math_operation == \"-\":\n",
    "        result = first_number - second_number\n",
    "    elif math_operation == \"/\":\n",
    "        if second_number != 0:\n",
    "            result = first_number / second_number\n",
    "        else:\n",
    "            print(\"Division by zero is not allowed.\")\n",
    "            return\n",
    "    elif math_operation == \"*\":\n",
    "        result = first_number * second_number\n",
    "    elif math_operation == \"//\":\n",
    "        if second_number != 0:\n",
    "            result = first_number // second_number\n",
    "        else:\n",
    "            print(\"Division by zero is not allowed.\")\n",
    "            return\n",
    "    elif math_operation == \"**\":\n",
    "        result = first_number ** second_number\n",
    "    else:\n",
    "        print(\"Invalid operation.\")\n",
    "        return\n",
    "\n",
    "    print(f\"Result: {result}\")\n",
    "\n",
    "    # Ask the user if they want to use the result as the first number for a new operation\n",
    "    yes_no = input(\"Do you want to use the result as the first number for the next operation? (yes/no): \").lower()\n",
    "\n",
    "    if yes_no == \"yes\":\n",
    "        second_number = int(input(\"Enter the second number: \"))\n",
    "        math_operation = input(\"Choose an operation from the following:\\n+ for addition\\n- for subtraction\\n/ for division\\n* for multiplication\\n// for floor division\\n** for exponentiation: \")\n",
    "\n",
    "        if math_operation == \"+\":\n",
    "            result = result + second_number\n",
    "        elif math_operation == \"-\":\n",
    "            result = result - second_number\n",
    "        elif math_operation == \"/\":\n",
    "            if second_number != 0:\n",
    "                result = result / second_number\n",
    "            else:\n",
    "                print(\"Division by zero is not allowed.\")\n",
    "                return\n",
    "        elif math_operation == \"*\":\n",
    "            result = result * second_number\n",
    "        elif math_operation == \"//\":\n",
    "            if second_number != 0:\n",
    "                result = result // second_number\n",
    "            else:\n",
    "                print(\"Division by zero is not allowed.\")\n",
    "                return\n",
    "        elif math_operation == \"**\":\n",
    "            result = result ** second_number\n",
    "        else:\n",
    "            print(\"Invalid operation.\")\n",
    "            return\n",
    "\n",
    "        print(f\"New Result: {result}\")\n",
    "\n",
    "    elif yes_no == \"no\":\n",
    "        calc()  # Restart the calculator if they want to begin again\n",
    "\n",
    "# Call the calculator function\n",
    "calc()\n",
    "\n"
   ]
  }
 ],
 "metadata": {
  "kernelspec": {
   "display_name": "base",
   "language": "python",
   "name": "python3"
  },
  "language_info": {
   "codemirror_mode": {
    "name": "ipython",
    "version": 3
   },
   "file_extension": ".py",
   "mimetype": "text/x-python",
   "name": "python",
   "nbconvert_exporter": "python",
   "pygments_lexer": "ipython3",
   "version": "3.12.4"
  }
 },
 "nbformat": 4,
 "nbformat_minor": 2
}
