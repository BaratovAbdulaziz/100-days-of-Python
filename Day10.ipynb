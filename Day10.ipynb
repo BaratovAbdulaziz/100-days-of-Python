{
 "cells": [
  {
   "cell_type": "markdown",
   "metadata": {},
   "source": [
    "# day 10\n",
    "\n",
    "## making calc"
   ]
  },
  {
   "cell_type": "markdown",
   "metadata": {},
   "source": [
    "# learning function title"
   ]
  },
  {
   "cell_type": "code",
   "execution_count": 8,
   "metadata": {},
   "outputs": [
    {
     "name": "stdout",
     "output_type": "stream",
     "text": [
      "Hello \n"
     ]
    }
   ],
   "source": [
    "# Day 10 Functions\n",
    "def personal_info():\n",
    "    name = input(\"enter your name:\\n\").title()\n",
    "    last_name = input(\"enter your lastname\").title()\n",
    "    print(f\"Hello{last_name} {name}\")\n",
    "personal_info()"
   ]
  },
  {
   "cell_type": "markdown",
   "metadata": {},
   "source": [
    "# first project (checking the year weather the year is leap or not)"
   ]
  },
  {
   "cell_type": "code",
   "execution_count": 1,
   "metadata": {},
   "outputs": [
    {
     "name": "stdout",
     "output_type": "stream",
     "text": [
      "2012 is a leap year.\n"
     ]
    }
   ],
   "source": [
    "year = input(\"Enter the year you want to check: \")\n",
    "year = int(year) \n",
    "\n",
    "if year % 4 == 0:  \n",
    "    if year % 100 != 0:  \n",
    "          print(f\"{year} is a leap year.\")\n",
    "    elif year % 400 == 0: \n",
    "        print(f\"{year} is a leap year.\")\n",
    "    else:\n",
    "        print(f\"{year} is not a leap year.\")\n",
    "else:\n",
    "    print(f\"{year} is not a leap year.\")\n"
   ]
  },
  {
   "cell_type": "markdown",
   "metadata": {},
   "source": [
    "# secound project: writing a discription for our function\n",
    "# rewrited the code on my own"
   ]
  },
  {
   "cell_type": "code",
   "execution_count": 4,
   "metadata": {},
   "outputs": [
    {
     "name": "stdout",
     "output_type": "stream",
     "text": [
      "it is not a leap year\n"
     ]
    }
   ],
   "source": [
    "year = int(input(\"enter the year\"))\n",
    "def leap_year(year):\n",
    "    '''takes the year and tells us is it leap year or not'''\n",
    "    if year % 4 == 0:\n",
    "        if year % 100 != 0:\n",
    "            print(\"it is a leap year\")\n",
    "        elif year % 400 ==0:\n",
    "            print( \"it is a leap year\")\n",
    "        else:\n",
    "            print(\"it is not a leap year\")\n",
    "    else:\n",
    "        print(\"it is not a leap year\")"
   ]
  },
  {
   "cell_type": "markdown",
   "metadata": {},
   "source": [
    "# __*final project (calc)*__"
   ]
  },
  {
   "cell_type": "code",
   "execution_count": 4,
   "metadata": {},
   "outputs": [
    {
     "ename": "KeyboardInterrupt",
     "evalue": "Interrupted by user",
     "output_type": "error",
     "traceback": [
      "\u001b[1;31m---------------------------------------------------------------------------\u001b[0m",
      "\u001b[1;31mKeyboardInterrupt\u001b[0m                         Traceback (most recent call last)",
      "Cell \u001b[1;32mIn[4], line 21\u001b[0m\n\u001b[0;32m     12\u001b[0m     \u001b[38;5;28;01mreturn\u001b[39;00m(n1 \u001b[38;5;241m*\u001b[39m\u001b[38;5;241m*\u001b[39m n2)\n\u001b[0;32m     13\u001b[0m opiration \u001b[38;5;241m=\u001b[39m {\n\u001b[0;32m     14\u001b[0m     \u001b[38;5;124m\"\u001b[39m\u001b[38;5;124m+\u001b[39m\u001b[38;5;124m\"\u001b[39m:\u001b[38;5;124m\"\u001b[39m\u001b[38;5;124madd\u001b[39m\u001b[38;5;124m\"\u001b[39m,\n\u001b[0;32m     15\u001b[0m     \u001b[38;5;124m\"\u001b[39m\u001b[38;5;124m-\u001b[39m\u001b[38;5;124m\"\u001b[39m:\u001b[38;5;124m\"\u001b[39m\u001b[38;5;124msubtraction\u001b[39m\u001b[38;5;124m\"\u001b[39m,\n\u001b[1;32m   (...)\u001b[0m\n\u001b[0;32m     19\u001b[0m     \u001b[38;5;124m\"\u001b[39m\u001b[38;5;124m**\u001b[39m\u001b[38;5;124m\"\u001b[39m:\u001b[38;5;124m\"\u001b[39m\u001b[38;5;124mexponentiation\u001b[39m\u001b[38;5;124m\"\u001b[39m,\n\u001b[0;32m     20\u001b[0m }\n\u001b[1;32m---> 21\u001b[0m n1 \u001b[38;5;241m=\u001b[39m \u001b[38;5;28mfloat\u001b[39m(\u001b[38;5;28minput\u001b[39m(\u001b[38;5;124m\"\u001b[39m\u001b[38;5;124menter the first number\u001b[39m\u001b[38;5;124m\"\u001b[39m))\n\u001b[0;32m     22\u001b[0m \u001b[38;5;28;01mwhile\u001b[39;00m \u001b[38;5;28;01mTrue\u001b[39;00m:\n\u001b[0;32m     23\u001b[0m     n2 \u001b[38;5;241m=\u001b[39m \u001b[38;5;28mfloat\u001b[39m(\u001b[38;5;28minput\u001b[39m(\u001b[38;5;124m\"\u001b[39m\u001b[38;5;124menter the secound number\u001b[39m\u001b[38;5;124m\"\u001b[39m))\n",
      "File \u001b[1;32mc:\\Users\\sokhi\\anaconda3\\Lib\\site-packages\\ipykernel\\kernelbase.py:1262\u001b[0m, in \u001b[0;36mKernel.raw_input\u001b[1;34m(self, prompt)\u001b[0m\n\u001b[0;32m   1260\u001b[0m     msg \u001b[38;5;241m=\u001b[39m \u001b[38;5;124m\"\u001b[39m\u001b[38;5;124mraw_input was called, but this frontend does not support input requests.\u001b[39m\u001b[38;5;124m\"\u001b[39m\n\u001b[0;32m   1261\u001b[0m     \u001b[38;5;28;01mraise\u001b[39;00m StdinNotImplementedError(msg)\n\u001b[1;32m-> 1262\u001b[0m \u001b[38;5;28;01mreturn\u001b[39;00m \u001b[38;5;28mself\u001b[39m\u001b[38;5;241m.\u001b[39m_input_request(\n\u001b[0;32m   1263\u001b[0m     \u001b[38;5;28mstr\u001b[39m(prompt),\n\u001b[0;32m   1264\u001b[0m     \u001b[38;5;28mself\u001b[39m\u001b[38;5;241m.\u001b[39m_parent_ident[\u001b[38;5;124m\"\u001b[39m\u001b[38;5;124mshell\u001b[39m\u001b[38;5;124m\"\u001b[39m],\n\u001b[0;32m   1265\u001b[0m     \u001b[38;5;28mself\u001b[39m\u001b[38;5;241m.\u001b[39mget_parent(\u001b[38;5;124m\"\u001b[39m\u001b[38;5;124mshell\u001b[39m\u001b[38;5;124m\"\u001b[39m),\n\u001b[0;32m   1266\u001b[0m     password\u001b[38;5;241m=\u001b[39m\u001b[38;5;28;01mFalse\u001b[39;00m,\n\u001b[0;32m   1267\u001b[0m )\n",
      "File \u001b[1;32mc:\\Users\\sokhi\\anaconda3\\Lib\\site-packages\\ipykernel\\kernelbase.py:1305\u001b[0m, in \u001b[0;36mKernel._input_request\u001b[1;34m(self, prompt, ident, parent, password)\u001b[0m\n\u001b[0;32m   1302\u001b[0m \u001b[38;5;28;01mexcept\u001b[39;00m \u001b[38;5;167;01mKeyboardInterrupt\u001b[39;00m:\n\u001b[0;32m   1303\u001b[0m     \u001b[38;5;66;03m# re-raise KeyboardInterrupt, to truncate traceback\u001b[39;00m\n\u001b[0;32m   1304\u001b[0m     msg \u001b[38;5;241m=\u001b[39m \u001b[38;5;124m\"\u001b[39m\u001b[38;5;124mInterrupted by user\u001b[39m\u001b[38;5;124m\"\u001b[39m\n\u001b[1;32m-> 1305\u001b[0m     \u001b[38;5;28;01mraise\u001b[39;00m \u001b[38;5;167;01mKeyboardInterrupt\u001b[39;00m(msg) \u001b[38;5;28;01mfrom\u001b[39;00m \u001b[38;5;28;01mNone\u001b[39;00m\n\u001b[0;32m   1306\u001b[0m \u001b[38;5;28;01mexcept\u001b[39;00m \u001b[38;5;167;01mException\u001b[39;00m:\n\u001b[0;32m   1307\u001b[0m     \u001b[38;5;28mself\u001b[39m\u001b[38;5;241m.\u001b[39mlog\u001b[38;5;241m.\u001b[39mwarning(\u001b[38;5;124m\"\u001b[39m\u001b[38;5;124mInvalid Message:\u001b[39m\u001b[38;5;124m\"\u001b[39m, exc_info\u001b[38;5;241m=\u001b[39m\u001b[38;5;28;01mTrue\u001b[39;00m)\n",
      "\u001b[1;31mKeyboardInterrupt\u001b[0m: Interrupted by user"
     ]
    }
   ],
   "source": [
    "def add(n1,n2):\n",
    "    return(n1 + n2)\n",
    "def subtraction (n1,n2):\n",
    "    return(n1 - n2)\n",
    "def division (n1,n2):\n",
    "    return(n1 / n2)\n",
    "def multiplication(n1,n2):\n",
    "    return(n1 * n2)\n",
    "def floor_division(n1,n2):\n",
    "    return(n1 // n2)\n",
    "def exponentiation(n1,n2):\n",
    "    return(n1 ** n2)\n",
    "opiration = {\n",
    "    \"+\":\"add\",\n",
    "    \"-\":\"subtraction\",\n",
    "    \"*\":\"multiplication\",\n",
    "    \"/\":\"division\",\n",
    "    \"//\":\"floor_division\",\n",
    "    \"**\":\"exponentiation\",\n",
    "}\n",
    "n1 = float(input(\"enter the first number\"))\n",
    "while True:\n",
    "    n2 = float(input(\"enter the secound number\"))\n",
    "    print('''\n",
    "    \"+\": for adding\n",
    "    \"-\": for subtraction\n",
    "    \"*\": for multiplication\n",
    "    \"/\": for division\n",
    "    \"//\": forfloor_division\n",
    "    \"**\": for exponentiation\n",
    "''')\n",
    "    opiration_check_list = input(\"choose math opiration\")\n",
    "    result = opiration(n1,n2)\n",
    "    if again ==\"y\":\n",
    "        print(f\"the opiration was\\n{n1} {opiration_check_list} {n2} = {result}\")\n",
    "        n1 = result\n",
    "        \n",
    "    elif again == \"n\":\n",
    "        break\n",
    "    else:\n",
    "        print(\"unknown command\")\n",
    "        again = input(\"do you want to use the result as a first number? (yes = y) no = n\")"
   ]
  },
  {
   "cell_type": "markdown",
   "metadata": {},
   "source": [
    "# __**edited by GPT**__"
   ]
  },
  {
   "cell_type": "code",
   "execution_count": null,
   "metadata": {},
   "outputs": [],
   "source": [
    "def calc():\n",
    "    first_number = int(input(\"Enter the first number: \"))\n",
    "    second_number = int(input(\"Enter the second number: \"))\n",
    "    math_operation = input(\"Choose an operation from the following:\\n+ for addition\\n- for subtraction\\n/ for division\\n* for multiplication\\n// for floor division\\n** for exponentiation: \")\n",
    "    \n",
    "    result = 0\n",
    "\n",
    "    if math_operation == \"+\":\n",
    "        result = first_number + second_number\n",
    "    elif math_operation == \"-\":\n",
    "        result = first_number - second_number\n",
    "    elif math_operation == \"/\":\n",
    "        if second_number != 0:\n",
    "            result = first_number / second_number\n",
    "        else:\n",
    "            print(\"Division by zero is not allowed.\")\n",
    "            return\n",
    "    elif math_operation == \"*\":\n",
    "        result = first_number * second_number\n",
    "    elif math_operation == \"//\":\n",
    "        if second_number != 0:\n",
    "            result = first_number // second_number\n",
    "        else:\n",
    "            print(\"Division by zero is not allowed.\")\n",
    "            return\n",
    "    elif math_operation == \"**\":\n",
    "        result = first_number ** second_number\n",
    "    else:\n",
    "        print(\"Invalid operation.\")\n",
    "        return\n",
    "\n",
    "    print(f\"Result: {result}\")\n",
    "\n",
    "    # Ask the user if they want to use the result as the first number for a new operation\n",
    "    yes_no = input(\"Do you want to use the result as the first number for the next operation? (yes/no): \").lower()\n",
    "\n",
    "    if yes_no == \"yes\":\n",
    "        second_number = int(input(\"Enter the second number: \"))\n",
    "        math_operation = input(\"Choose an operation from the following:\\n+ for addition\\n- for subtraction\\n/ for division\\n* for multiplication\\n// for floor division\\n** for exponentiation: \")\n",
    "\n",
    "        if math_operation == \"+\":\n",
    "            result = result + second_number\n",
    "        elif math_operation == \"-\":\n",
    "            result = result - second_number\n",
    "        elif math_operation == \"/\":\n",
    "            if second_number != 0:\n",
    "                result = result / second_number\n",
    "            else:\n",
    "                print(\"Division by zero is not allowed.\")\n",
    "                return\n",
    "        elif math_operation == \"*\":\n",
    "            result = result * second_number\n",
    "        elif math_operation == \"//\":\n",
    "            if second_number != 0:\n",
    "                result = result // second_number\n",
    "            else:\n",
    "                print(\"Division by zero is not allowed.\")\n",
    "                return\n",
    "        elif math_operation == \"**\":\n",
    "            result = result ** second_number\n",
    "        else:\n",
    "            print(\"Invalid operation.\")\n",
    "            return\n",
    "\n",
    "        print(f\"New Result: {result}\")\n",
    "\n",
    "    elif yes_no == \"no\":\n",
    "        calc()  # Restart the calculator if they want to begin again\n",
    "\n",
    "# Call the calculator function\n",
    "calc()\n",
    "\n"
   ]
  }
 ],
 "metadata": {
  "kernelspec": {
   "display_name": "base",
   "language": "python",
   "name": "python3"
  },
  "language_info": {
   "codemirror_mode": {
    "name": "ipython",
    "version": 3
   },
   "file_extension": ".py",
   "mimetype": "text/x-python",
   "name": "python",
   "nbconvert_exporter": "python",
   "pygments_lexer": "ipython3",
   "version": "3.12.4"
  }
 },
 "nbformat": 4,
 "nbformat_minor": 2
}
