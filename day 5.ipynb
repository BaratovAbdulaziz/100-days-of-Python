{
 "cells": [
  {
   "cell_type": "code",
   "execution_count": 13,
   "metadata": {},
   "outputs": [
    {
     "name": "stdout",
     "output_type": "stream",
     "text": [
      "Dream team\n",
      "Sapnap team\n",
      "Beast team\n",
      "Carl team\n",
      "Carl\n",
      "['Dream', 'Sapnap', 'Beast', 'Carl']\n"
     ]
    }
   ],
   "source": [
    "a = [\"Dream\",\"Sapnap\",\"Beast\",\"Carl\"]\n",
    "for Team in a:\n",
    "    print (Team + \" team\")\n",
    "print(Team)\n",
    "print (a)"
   ]
  },
  {
   "cell_type": "code",
   "execution_count": 23,
   "metadata": {},
   "outputs": [
    {
     "name": "stdout",
     "output_type": "stream",
     "text": [
      "200\n"
     ]
    }
   ],
   "source": [
    "list = [\"180\", \"148\", \"129\", \"185\", \"146\", \"124\", \"190\", \"153\", \"128\", \"195\", \"154\", \"126\", \"200\", \"151\", \"122\"]\n",
    "max = 0\n",
    "for lists in list:\n",
    "    if int(max) < int(lists):\n",
    "        max = lists\n",
    "\n",
    "print(max)"
   ]
  },
  {
   "cell_type": "code",
   "execution_count": 23,
   "metadata": {},
   "outputs": [
    {
     "name": "stdout",
     "output_type": "stream",
     "text": [
      "5050\n"
     ]
    }
   ],
   "source": [
    "u = 0\n",
    "for x in range (1,101):\n",
    "    u += x\n",
    "print (u)"
   ]
  },
  {
   "cell_type": "code",
   "execution_count": 13,
   "metadata": {},
   "outputs": [
    {
     "name": "stdout",
     "output_type": "stream",
     "text": [
      "w5661_$~?_*&\n"
     ]
    }
   ],
   "source": [
    "# I thought easy but that was nor\n",
    "import random\n",
    "password = ''\n",
    "list_number = ['1','2','3','4','5','6','7','8','9']\n",
    "list_letter = ['A', 'B', 'C', 'D', 'E', 'F', 'G', 'H', 'I', 'J', 'K', 'L', 'M', 'N', 'O', 'P', 'Q', 'R', 'S', 'T', 'U', 'V', 'W', 'X', 'Y', 'Z','a', 'b', 'c', 'd', 'e', 'f', 'g', 'h', 'i', 'j', 'k', 'l', 'm', 'n', 'o', 'p', 'q', 'r', 's', 't', 'u', 'v', 'w', 'x', 'y', 'z']\n",
    "list_symbol = ['!', '\"', '#', '$', '%', '&', \"'\", '(', ')', '*', '+', ',', '-', '.', '/', ':', ';', '<', '=', '>', '?', '@', '[', '\\\\', ']', '^', '_', '`', '{', '|', '}', '~']\n",
    "a = int(input ('how mmany letters should be? \\n'))\n",
    "b = int(input ('how many numbers should be \\n'))\n",
    "c = int(input ('how many symbils do you want'))\n",
    "for x in range ( 1 , a +1):\n",
    "    random_letter = random.choice (list_letter)\n",
    "    password += random_letter\n",
    "\n",
    "for y in range (1 , b + 1):\n",
    "    random_number = random.choice (list_number)\n",
    "    password += random_number\n",
    "\n",
    "for z in range (1 , c + 1 ):\n",
    "    random_symbol = random.choice (list_symbol)\n",
    "    password += random_symbol\n",
    "print (password)"
   ]
  },
  {
   "cell_type": "code",
   "execution_count": 27,
   "metadata": {},
   "outputs": [
    {
     "name": "stdout",
     "output_type": "stream",
     "text": [
      "\\'Bn3z1#!33b\n"
     ]
    }
   ],
   "source": [
    "#hard\n",
    "import random\n",
    "password = []\n",
    "import random\n",
    "list_number = ['1','2','3','4','5','6','7','8','9']\n",
    "list_letter = ['A', 'B', 'C', 'D', 'E', 'F', 'G', 'H', 'I', 'J', 'K', 'L', 'M', 'N', 'O', 'P', 'Q', 'R', 'S', 'T', 'U', 'V', 'W', 'X', 'Y', 'Z','a', 'b', 'c', 'd', 'e', 'f', 'g', 'h', 'i', 'j', 'k', 'l', 'm', 'n', 'o', 'p', 'q', 'r', 's', 't', 'u', 'v', 'w', 'x', 'y', 'z']\n",
    "list_symbol = ['!', '\"', '#', '$', '%', '&', \"'\", '(', ')', '*', '+', ',', '-', '.', '/', ':', ';', '<', '=', '>', '?', '@', '[', '\\\\', ']', '^', '_', '`', '{', '|', '}', '~']\n",
    "a = int(input ('how mmany letters should be? \\n'))\n",
    "b = int(input ('how many numbers should be \\n'))\n",
    "c = int(input ('how many symbils do you want'))\n",
    "\n",
    "\n",
    "for x in range ( 1 , a +1):\n",
    "    random_letter = random.choice (list_letter)\n",
    "    password += random_letter\n",
    "\n",
    "for y in range (1 , b + 1):\n",
    "    random_number = random.choice (list_number)\n",
    "    password += random_number\n",
    "\n",
    "for z in range (1 , c + 1 ):\n",
    "    random_symbol = random.choice (list_symbol)\n",
    "    password += random_symbol\n",
    "random.shuffle (password)\n",
    "password_e = \"\"\n",
    "for l in password:\n",
    "    password_e += l\n",
    "print (password_e)\n",
    "\n",
    "\n",
    "\n",
    "#notes\n",
    "#random.choice can be user in the loop\n",
    "# random.shuffle can change the order"
   ]
  }
 ],
 "metadata": {
  "kernelspec": {
   "display_name": "base",
   "language": "python",
   "name": "python3"
  },
  "language_info": {
   "codemirror_mode": {
    "name": "ipython",
    "version": 3
   },
   "file_extension": ".py",
   "mimetype": "text/x-python",
   "name": "python",
   "nbconvert_exporter": "python",
   "pygments_lexer": "ipython3",
   "version": "3.12.4"
  }
 },
 "nbformat": 4,
 "nbformat_minor": 2
}
