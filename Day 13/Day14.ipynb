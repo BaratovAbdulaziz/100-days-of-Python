{
 "cells": [
  {
   "cell_type": "code",
   "execution_count": 15,
   "metadata": {},
   "outputs": [],
   "source": [
    "import random\n",
    "characters = {\n",
    "    \"Dragon\": 5000000000,\n",
    "    \"Wizard\": 4500000000,  \n",
    "    \"Vampire\": 4000000000, \n",
    "    \"Werewolf\": 3500000000,\n",
    "    \"Knight\": 3000000000,\n",
    "    \"Elf\": 2500000000,\n",
    "    \"Phoenix\": 2000000000,\n",
    "    \"Griffin\": 1800000000,\n",
    "    \"Mermaid\": 1700000000,\n",
    "    \"Orc\": 1600000000,\n",
    "    \"Giant\": 1500000000,\n",
    "    \"Troll\": 1400000000,\n",
    "    \"Centaur\": 1300000000,\n",
    "    \"Minotaur\": 1200000000,\n",
    "    \"Golem\": 1000000000,\n",
    "    \"Banshee\": 900000000,\n",
    "    \"Harpy\": 800000000,\n",
    "    \"Goblin\": 700000000,\n",
    "    \"Hydra\": 600000000,\n",
    "    \"Sphinx\": 500000000,\n",
    "    \"Cyclops\": 400000000,\n",
    "    \"Zombie\": 3000000000,   \n",
    "    \"Skeleton\": 2000000000  \n",
    "}\n",
    "chance = 1\n",
    "score = 0"
   ]
  },
  {
   "cell_type": "code",
   "execution_count": 17,
   "metadata": {},
   "outputs": [
    {
     "name": "stdout",
     "output_type": "stream",
     "text": [
      "Skeleton-2000000000\n",
      "is Werewolf more popular then Skeleton?\n"
     ]
    }
   ],
   "source": [
    "while chance != 0:\n",
    "    a_random = random.choice(list(characters.keys()))\n",
    "    a_volue = characters[a_random]\n",
    "    removing_a_from_dict = characters.pop(a_random)\n",
    "    print(f\"{a_random}-{a_volue}\")\n",
    "    b_random = random.choice(list(characters.keys()))\n",
    "    b_volue = characters[b_random]\n",
    "    print(f\"is {b_random} more popular then {a_random}?\")\n",
    "    user_answer = input(\"is {b_random} is more popular then {a_random}\\n\")\n",
    "    characters.pop(b_random)\n",
    "    if a_volue < b_volue and user_answer == \"yes\":\n",
    "        score += 1\n",
    "    elif a_volue > b_volue and user_answer == \"no\":\n",
    "        score += 1\n",
    "    elif a_volue < b_volue and user_answer ==\"no\":\n",
    "        print(f\"you lose \\n{a_random} -->{a_volue} \\n {b_random} --> {b_volue}\")\n",
    "        break\n",
    "    elif a_volue > b_volue and user_answer == \"yes\":\n",
    "        print(f\"you lose \\n{a_random} -->{a_volue} \\n {b_random} --> {b_volue}\")\n",
    "    break"
   ]
  }
 ],
 "metadata": {
  "kernelspec": {
   "display_name": "Python 3",
   "language": "python",
   "name": "python3"
  },
  "language_info": {
   "codemirror_mode": {
    "name": "ipython",
    "version": 3
   },
   "file_extension": ".py",
   "mimetype": "text/x-python",
   "name": "python",
   "nbconvert_exporter": "python",
   "pygments_lexer": "ipython3",
   "version": "3.12.6"
  }
 },
 "nbformat": 4,
 "nbformat_minor": 2
}
