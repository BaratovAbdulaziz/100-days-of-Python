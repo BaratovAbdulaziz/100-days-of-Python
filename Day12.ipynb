{
 "cells": [
  {
   "cell_type": "code",
   "execution_count": 5,
   "metadata": {},
   "outputs": [],
   "source": [
    "import random\n",
    "attampts = 0\n",
    "def S_play():\n",
    "    print(\"diffecoulties:\\neasy(e)\\nnormal(n)\\nhard(h)\")\n",
    "    diffecoulty = input(\"choose the diffecoulty\\n:\")\n",
    "    if diffecoulty ==\"e\":\n",
    "        diffecoulty = int(15)\n",
    "        global attampts \n",
    "        attampts = 15\n",
    "        print(\"you have 15 attamts\")\n",
    "    elif diffecoulty == \"n\":\n",
    "        print(\"you have 10 attampts\")\n",
    "        diffecoulty = int(10) \n",
    "        attampts = 10\n",
    "    elif diffecoulty == \"h\":\n",
    "        print(\"you have 5 attampts\")\n",
    "        diffecoulty = int(5)\n",
    "        attampts = 5\n",
    "    up_to = int(input(\"what number should be the maximum?\"))\n",
    "    Number = random.randint(1,up_to)\n",
    "    print(f\"the number is higher then (0) lower then({up_to + 1})\")\n",
    "\n",
    "    for repeat in range(diffecoulty):\n",
    "        answer = int(input())\n",
    "        if answer > Number:\n",
    "            print('''\n",
    "|                           |\n",
    "|                           |\n",
    "|                           |\n",
    "|                           |\n",
    "V                           V\n",
    "        too high go down''')\n",
    "        elif answer < Number:\n",
    "            print('''\n",
    "A                           A\n",
    "|                           |\n",
    "|                           |\n",
    "|                           |\n",
    "|                           |\n",
    "        Too low go higher''')\n",
    "        elif answer == Number:\n",
    "            print('''\n",
    "Y   Y  OOO  U   U      W   W  OOO  N   N\n",
    " Y Y  O   O U   U      W W W O   O NN  N\n",
    "  Y   O   O U   U      W W W O   O N N N\n",
    "  Y    OOO   UUU       W W W  OOO  N  NN\n",
    "''')\n",
    "            break\n",
    "        elif answer != Number:\n",
    "            print(f\"you have {attampts - 1} attemts\")\n",
    "        if attampts == 0:\n",
    "            print(f'''\n",
    "Y       Y    OOOOO     U     U         L           OOOOO    SSSSSS    EEEEEEE\n",
    " Y     Y     O     O    U     U         L          O     O   S         E\n",
    "  Y   Y      O     O    U     U         L          O     O    SSSSSS   EEEEEEE\n",
    "   Y Y       O     O    U     U         L          O     O          S   E\n",
    "    Y         OOOOO      UUUUU          LLLLL      OOOOO    SSSSSS    EEEEEEE\n",
    "                  the number was:{Number}\n",
    "''')\n",
    "            "
   ]
  },
  {
   "cell_type": "code",
   "execution_count": 4,
   "metadata": {},
   "outputs": [],
   "source": [
    "def S_help():\n",
    "    print(''' \n",
    "Welcome to the Number-Finding Game! In this exciting challenge, players will test their number-guessing skills against a hidden number chosen by the computer. The objective is simple: guess the correct number in the fewest attempts possible. Get ready to sharpen your mind and have fun!\n",
    "\n",
    "Game Rules:\n",
    "Objective:\n",
    "\n",
    "Guess the secret number selected by the computer within a specified range.\n",
    "Setup:\n",
    "\n",
    "The computer randomly selects a secret number between a predetermined range (e.g., 1 to 100).\n",
    "Gameplay:\n",
    "\n",
    "Players take turns guessing the number.\n",
    "After each guess, the computer provides feedback:\n",
    "If the guess is too high, the player is informed.\n",
    "If the guess is too low, the player is informed.\n",
    "If the guess is correct, the player wins!\n",
    "Attempts:\n",
    "\n",
    "Players have a limited number of attempts (e.g., 10 guesses) to find the secret number.\n",
    "Winning the Game:\n",
    "\n",
    "The player who guesses the correct number in the fewest attempts wins.\n",
    "If no one guesses the number within the allowed attempts, the game ends, and the secret number is revealed.\n",
    "Variations:\n",
    "\n",
    "Introduce time limits for each guess.\n",
    "Change the range of numbers for different difficulty levels.''')"
   ]
  },
  {
   "cell_type": "code",
   "execution_count": 5,
   "metadata": {},
   "outputs": [],
   "source": [
    "def S_quit():\n",
    "    print(\"see you again\")\n",
    "    quit()"
   ]
  },
  {
   "cell_type": "code",
   "execution_count": 7,
   "metadata": {},
   "outputs": [],
   "source": [
    "def main_menu():\n",
    "    import random\n",
    "    print(\"welcome to the random number game\")\n",
    "    print(\"choose one of the options\\nplay(p)\\nhelp(h\\nquit(q)\")\n",
    "    main_menu_choice = input(\"\")\n",
    "    if main_menu_choice == \"p\":\n",
    "        S_play()\n",
    "    elif main_menu_choice == \"h\":\n",
    "        S_help()\n",
    "    elif main_menu_choice == \"q\":\n",
    "        S_quit()"
   ]
  },
  {
   "cell_type": "code",
   "execution_count": 10,
   "metadata": {},
   "outputs": [
    {
     "name": "stdout",
     "output_type": "stream",
     "text": [
      "welcome to the random number game\n",
      "choose one of the options\n",
      "1.play(p)\n",
      "help(h\n",
      "quit(q)\n",
      "diffecoulties:\n",
      "easy(e)\n",
      "normal(n)\n",
      "hard(h)\n",
      "the number is higher then (0) lower then(2)\n",
      "\n",
      "Y   Y  OOO  U   U      W   W  OOO  N   N\n",
      " Y Y  O   O U   U      W W W O   O NN  N\n",
      "  Y   O   O U   U      W W W O   O N N N\n",
      "  Y    OOO   UUU       W W W  OOO  N  NN\n",
      "\n"
     ]
    }
   ],
   "source": [
    "restart = \"y\"\n",
    "while restart == \"y\":\n",
    "    main_menu()\n",
    "    restart = input(\"do you want to restart the game?\")\n",
    "else:\n",
    "    quit"
   ]
  }
 ],
 "metadata": {
  "kernelspec": {
   "display_name": "base",
   "language": "python",
   "name": "python3"
  },
  "language_info": {
   "codemirror_mode": {
    "name": "ipython",
    "version": 3
   },
   "file_extension": ".py",
   "mimetype": "text/x-python",
   "name": "python",
   "nbconvert_exporter": "python",
   "pygments_lexer": "ipython3",
   "version": "3.12.4"
  }
 },
 "nbformat": 4,
 "nbformat_minor": 2
}
