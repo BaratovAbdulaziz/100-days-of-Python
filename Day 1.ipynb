{
 "cells": [
  {
   "cell_type": "code",
   "execution_count": 1,
   "metadata": {},
   "outputs": [
    {
     "name": "stdout",
     "output_type": "stream",
     "text": [
      "Hello world and to anyone who will be interessted in my project\n"
     ]
    }
   ],
   "source": [
    "print ('Hello world and to anyone who will be interessted in my project')"
   ]
  },
  {
   "cell_type": "code",
   "execution_count": 4,
   "metadata": {},
   "outputs": [
    {
     "name": "stdout",
     "output_type": "stream",
     "text": [
      "your age is 1\n"
     ]
    }
   ],
   "source": [
    "age = input('Enter your age')\n",
    "print('your age is '+age)"
   ]
  },
  {
   "cell_type": "code",
   "execution_count": 4,
   "metadata": {},
   "outputs": [
    {
     "name": "stdout",
     "output_type": "stream",
     "text": [
      "it is the lesson to try the print function\n",
      " that's a result\n",
      "1. hello\n",
      "2. how are you\n",
      "3.thank you for chacking my projact\n",
      "4.go on and chack all my projacts\n",
      "5. thank you\n",
      "hello Abdulaziz\n"
     ]
    }
   ],
   "source": [
    "#print-to print something to the console\n",
    "#\\n-to start from the new line\n",
    "print(\"it is the lesson to try the print function\\n that's a result\")\n",
    "print(\"1. hello\")\n",
    "print(\"2. how are you\")\n",
    "print(\"3.thank you for chacking my projact\" )\n",
    "print(\"4.go on and chack all my projacts\")\n",
    "print(\"5. thank you\")\n",
    "print(\"hello\"+ \" Abdulaziz\")"
   ]
  },
  {
   "cell_type": "code",
   "execution_count": 6,
   "metadata": {},
   "outputs": [
    {
     "name": "stdout",
     "output_type": "stream",
     "text": [
      "hello 1\n"
     ]
    }
   ],
   "source": [
    "#input-to make the user enter the data that replace the command whole  input ('') to the data that the user provided\n",
    "#sample one\n",
    "input ('what is your name?')\n",
    "#the input with the other  function\n",
    "print(\"hello\" + \" \" + input('what is your name?'))"
   ]
  },
  {
   "cell_type": "code",
   "execution_count": 18,
   "metadata": {},
   "outputs": [
    {
     "name": "stdout",
     "output_type": "stream",
     "text": [
      "56\n"
     ]
    }
   ],
   "source": [
    "#len - to show as how many letters in the letter the function\n",
    "a= len(input(\"hey do you want to count how many symbols in your text if yes write that here\"))\n",
    "print(a)"
   ]
  },
  {
   "cell_type": "code",
   "execution_count": 19,
   "metadata": {},
   "outputs": [
    {
     "name": "stdout",
     "output_type": "stream",
     "text": [
      "17\n"
     ]
    }
   ],
   "source": [
    "a = input('what is your name?')\n",
    "b = input('what is your surmane')\n",
    "c = a+b\n",
    "d = len(c)\n",
    "print (d)"
   ]
  },
  {
   "cell_type": "code",
   "execution_count": 2,
   "metadata": {},
   "outputs": [
    {
     "name": "stdout",
     "output_type": "stream",
     "text": [
      "hello and welcome to the username creator\n",
      " username for several social media\n",
      "your username issamarkandshadow\n"
     ]
    }
   ],
   "source": [
    "#the prigram that combines the data and that would be an username that thay need\n",
    "print(\"hello and welcome to the username creator\\n username for several social media\")\n",
    "a = input(\"can you provide the name of your hometown\")\n",
    "b = input('provide the name of your pet')\n",
    "print(\"your username is\" + ' ' + a + b)"
   ]
  }
 ],
 "metadata": {
  "kernelspec": {
   "display_name": "base",
   "language": "python",
   "name": "python3"
  },
  "language_info": {
   "codemirror_mode": {
    "name": "ipython",
    "version": 3
   },
   "file_extension": ".py",
   "mimetype": "text/x-python",
   "name": "python",
   "nbconvert_exporter": "python",
   "pygments_lexer": "ipython3",
   "version": "3.12.4"
  }
 },
 "nbformat": 4,
 "nbformat_minor": 2
}
