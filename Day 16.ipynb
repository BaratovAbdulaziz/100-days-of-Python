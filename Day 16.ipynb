{
 "cells": [
  {
   "cell_type": "markdown",
   "metadata": {},
   "source": [
    "# __Day 16__"
   ]
  },
  {
   "cell_type": "markdown",
   "metadata": {},
   "source": [
    "# __Report__ "
   ]
  },
  {
   "cell_type": "code",
   "execution_count": null,
   "metadata": {},
   "outputs": [],
   "source": [
    "def report():\n",
    "    global water,coffee,milk,ice,sugar\n",
    "    water = 10000\n",
    "    sugar = 1000\n",
    "    milk = 5000\n",
    "    coffee = 2000\n",
    "    ice = 250\n",
    "\n",
    "    print(f'''\n",
    "        sugar--->{sugar}\n",
    "        water--->{water}\n",
    "        milk--->{milk}\n",
    "        coffee-->{coffee}\n",
    "        ice--->{ice}\n",
    "        ''')"
   ]
  },
  {
   "cell_type": "markdown",
   "metadata": {},
   "source": [
    "<h1 align = \"center\" class = \"a\">hello</h1>\n",
    "<style>\n",
    "    .a{\n",
    "        color = \"red\";\n",
    "    }\n",
    "</style>"
   ]
  },
  {
   "cell_type": "code",
   "execution_count": 2,
   "metadata": {},
   "outputs": [],
   "source": [
    "def coin():\n",
    "    def again():\n",
    "        global sum,USD,T\n",
    "        sum = float(0)\n",
    "        USD = float(0)\n",
    "        T = float(0)\n",
    "        print('''choose one of them\n",
    "            SUM---(S)\n",
    "            $  --->(USD)\n",
    "            ₸   ---> (T)''')\n",
    "        A =input(\"Here:\").lower()\n",
    "        if A == \"s\":\n",
    "            a = float(input(\"amount:\"))\n",
    "            sum += a\n",
    "        elif A == \"usd\":\n",
    "            a = float(input(\"amount:\"))\n",
    "            USD += a * 12854.41\n",
    "        elif A == \"t\":\n",
    "            a = float(input(\"amount:\"))\n",
    "            T += a * 25.96\n",
    "        else:\n",
    "            print('''\n",
    "Something went wrong\n",
    "make sure you wrote \n",
    "                  (S for \"sum\")\n",
    "                  (USD for \"Dollar<US ---> $ >\")\n",
    "                  (T for \"KTZ <₸>\")\n",
    "try again\n",
    "''')\n",
    "        \n",
    "            again()\n",
    "    end = input(\">>>>>>>>>>do you want to add more money?(Y/N)<<<<<<<<<<\").lower()\n",
    "    if end == \"y\":\n",
    "        again()\n",
    "    elif end == \"n\":\n",
    "        total = float(sum + USD +T)\n",
    "        print(total)"
   ]
  },
  {
   "cell_type": "code",
   "execution_count": 16,
   "metadata": {},
   "outputs": [
    {
     "ename": "UnboundLocalError",
     "evalue": "cannot access local variable 'coffee' where it is not associated with a value",
     "output_type": "error",
     "traceback": [
      "\u001b[1;31m---------------------------------------------------------------------------\u001b[0m",
      "\u001b[1;31mUnboundLocalError\u001b[0m                         Traceback (most recent call last)",
      "Cell \u001b[1;32mIn[16], line 16\u001b[0m\n\u001b[0;32m     13\u001b[0m             time\u001b[38;5;241m.\u001b[39msleep(\u001b[38;5;241m0.050\u001b[39m)  \n\u001b[0;32m     15\u001b[0m     \u001b[38;5;28mprint\u001b[39m(\u001b[38;5;124m\"\u001b[39m\u001b[38;5;130;01m\\n\u001b[39;00m\u001b[38;5;124mDone!\u001b[39m\u001b[38;5;124m\"\u001b[39m)\n\u001b[1;32m---> 16\u001b[0m \u001b[43mmake_dark_coffee\u001b[49m\u001b[43m(\u001b[49m\u001b[43m)\u001b[49m\n\u001b[0;32m     17\u001b[0m report()\n",
      "Cell \u001b[1;32mIn[16], line 4\u001b[0m, in \u001b[0;36mmake_dark_coffee\u001b[1;34m()\u001b[0m\n\u001b[0;32m      3\u001b[0m \u001b[38;5;28;01mdef\u001b[39;00m \u001b[38;5;21mmake_dark_coffee\u001b[39m():\n\u001b[1;32m----> 4\u001b[0m     \u001b[43mcoffee\u001b[49m \u001b[38;5;241m-\u001b[39m\u001b[38;5;241m=\u001b[39m \u001b[38;5;241m20\u001b[39m\n\u001b[0;32m      5\u001b[0m     water \u001b[38;5;241m-\u001b[39m\u001b[38;5;241m=\u001b[39m \u001b[38;5;241m300\u001b[39m\n\u001b[0;32m      6\u001b[0m     sugar \u001b[38;5;241m-\u001b[39m\u001b[38;5;241m=\u001b[39m \u001b[38;5;241m50\u001b[39m\n",
      "\u001b[1;31mUnboundLocalError\u001b[0m: cannot access local variable 'coffee' where it is not associated with a value"
     ]
    }
   ],
   "source": [
    "import time\n",
    "import sys\n",
    "def make_dark_coffee():\n",
    "    coffee -= 20\n",
    "    water -= 300\n",
    "    sugar -= 50\n",
    "    symbols = ['|', '/', '-', '\\\\']\n",
    "    \n",
    "    for _ in range(35):  \n",
    "        for symbol in symbols:\n",
    "            sys.stdout.write(f'\\rLoading {symbol}')\n",
    "            sys.stdout.flush()\n",
    "            time.sleep(0.050)  \n",
    "    \n",
    "    print(\"\\nDone!\")\n",
    "make_dark_coffee()\n",
    "report()"
   ]
  },
  {
   "cell_type": "code",
   "execution_count": 24,
   "metadata": {},
   "outputs": [
    {
     "ename": "NameError",
     "evalue": "name 'coffee' is not defined",
     "output_type": "error",
     "traceback": [
      "\u001b[1;31m---------------------------------------------------------------------------\u001b[0m",
      "\u001b[1;31mNameError\u001b[0m                                 Traceback (most recent call last)",
      "Cell \u001b[1;32mIn[24], line 19\u001b[0m\n\u001b[0;32m     16\u001b[0m             time\u001b[38;5;241m.\u001b[39msleep(\u001b[38;5;241m0.050\u001b[39m)  \n\u001b[0;32m     18\u001b[0m     \u001b[38;5;28mprint\u001b[39m(\u001b[38;5;124m\"\u001b[39m\u001b[38;5;130;01m\\n\u001b[39;00m\u001b[38;5;124mDone!\u001b[39m\u001b[38;5;124m\"\u001b[39m)\n\u001b[1;32m---> 19\u001b[0m \u001b[43mmake_dark_coffee\u001b[49m\u001b[43m(\u001b[49m\u001b[43m)\u001b[49m\n\u001b[0;32m     20\u001b[0m report()\n",
      "Cell \u001b[1;32mIn[24], line 5\u001b[0m, in \u001b[0;36mmake_dark_coffee\u001b[1;34m()\u001b[0m\n\u001b[0;32m      3\u001b[0m \u001b[38;5;28;01mdef\u001b[39;00m \u001b[38;5;21mmake_dark_coffee\u001b[39m():\n\u001b[0;32m      4\u001b[0m     \u001b[38;5;28;01mglobal\u001b[39;00m coffee,milk,water,ice\n\u001b[1;32m----> 5\u001b[0m     \u001b[43mcoffee\u001b[49m \u001b[38;5;241m-\u001b[39m\u001b[38;5;241m=\u001b[39m \u001b[38;5;241m20\u001b[39m\n\u001b[0;32m      6\u001b[0m     water \u001b[38;5;241m-\u001b[39m\u001b[38;5;241m=\u001b[39m \u001b[38;5;241m300\u001b[39m\n\u001b[0;32m      7\u001b[0m     sugar \u001b[38;5;241m-\u001b[39m\u001b[38;5;241m=\u001b[39m \u001b[38;5;241m50\u001b[39m\n",
      "\u001b[1;31mNameError\u001b[0m: name 'coffee' is not defined"
     ]
    }
   ],
   "source": [
    "import time\n",
    "import sys\n",
    "def make_dark_coffee():\n",
    "    global coffee,milk,water,ice\n",
    "    coffee -= 20\n",
    "    water -= 300\n",
    "    sugar -= 50\n",
    "    milk -= 200\n",
    "    ice -= 2\n",
    "    symbols = ['|', '/', '-', '\\\\']\n",
    "    \n",
    "    for _ in range(35):  \n",
    "        for symbol in symbols:\n",
    "            sys.stdout.write(f'\\rLoading {symbol}')\n",
    "            sys.stdout.flush()\n",
    "            time.sleep(0.050)  \n",
    "    \n",
    "    print(\"\\nDone!\")\n",
    "make_dark_coffee()\n",
    "report()"
   ]
  }
 ],
 "metadata": {
  "kernelspec": {
   "display_name": "Python 3",
   "language": "python",
   "name": "python3"
  },
  "language_info": {
   "codemirror_mode": {
    "name": "ipython",
    "version": 3
   },
   "file_extension": ".py",
   "mimetype": "text/x-python",
   "name": "python",
   "nbconvert_exporter": "python",
   "pygments_lexer": "ipython3",
   "version": "3.13.0"
  }
 },
 "nbformat": 4,
 "nbformat_minor": 2
}
