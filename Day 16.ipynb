{
 "cells": [
  {
   "cell_type": "markdown",
   "metadata": {},
   "source": [
    "# __Day 16__"
   ]
  },
  {
   "cell_type": "markdown",
   "metadata": {},
   "source": [
    "<h1><a href = \"https://github.com/BaratovAbdulaziz\"><b>Report</b></a></h1>"
   ]
  },
  {
   "cell_type": "code",
   "execution_count": 8,
   "metadata": {},
   "outputs": [],
   "source": [
    "sugar = 1000\n",
    "milk = 5000\n",
    "coffee = 2000\n",
    "ice = 250\n",
    "water = 10000\n",
    "def report():\n",
    "    global coffee,milk,sugar,ice,water\n",
    "    print(f'''\n",
    "        sugar--->{sugar}\n",
    "        water--->{water}\n",
    "        milk--->{milk}\n",
    "        coffee-->{coffee}\n",
    "        ice--->{ice}\n",
    "        ''')"
   ]
  },
  {
   "cell_type": "code",
   "execution_count": 9,
   "metadata": {},
   "outputs": [],
   "source": [
    "def coin():\n",
    "    def again():\n",
    "        global sum,USD,T\n",
    "        sum = float(0)\n",
    "        USD = float(0)\n",
    "        T = float(0)\n",
    "        print('''choose one of them\n",
    "            SUM---(S)\n",
    "            $  --->(USD)\n",
    "            ₸   ---> (T)''')\n",
    "        A =input(\"Here:\").lower()\n",
    "        if A == \"s\":\n",
    "            a = float(input(\"amount:\"))\n",
    "            sum += a\n",
    "        elif A == \"usd\":\n",
    "            a = float(input(\"amount:\"))\n",
    "            USD += a * 12854.41\n",
    "        elif A == \"t\":\n",
    "            a = float(input(\"amount:\"))\n",
    "            T += a * 25.96\n",
    "        else:\n",
    "            print('''\n",
    "Something went wrong\n",
    "make sure you wrote \n",
    "                  (S for \"sum\")\n",
    "                  (USD for \"Dollar<US ---> $ >\")\n",
    "                  (T for \"KTZ <₸>\")\n",
    "try again\n",
    "''')\n",
    "        \n",
    "            again()\n",
    "    end = input(\">>>>>>>>>>do you want to add more money?(Y/N)<<<<<<<<<<\").lower()\n",
    "    if end == \"y\":\n",
    "        again()\n",
    "    elif end == \"n\":\n",
    "        total = float(sum + USD +T)\n",
    "        print(total)"
   ]
  },
  {
   "cell_type": "code",
   "execution_count": 10,
   "metadata": {},
   "outputs": [
    {
     "name": "stdout",
     "output_type": "stream",
     "text": [
      "Loading \\\n",
      "Done!\n",
      "\n",
      "        sugar--->950\n",
      "        water--->9700\n",
      "        milk--->5000\n",
      "        coffee-->1980\n",
      "        ice--->250\n",
      "        \n"
     ]
    }
   ],
   "source": [
    "import time\n",
    "import sys\n",
    "def make_dark_coffee():\n",
    "    global water,milk, ice,sugar,coffee\n",
    "    coffee -= 20\n",
    "    water -= 300\n",
    "    sugar -= 50\n",
    "    symbols = ['|', '/', '-', '\\\\']\n",
    "    \n",
    "    for _ in range(35):  \n",
    "        for symbol in symbols:\n",
    "            sys.stdout.write(f'\\rLoading {symbol}')\n",
    "            sys.stdout.flush()\n",
    "            time.sleep(0.050)  \n",
    "    \n",
    "    print(\"\\nDone!\")\n",
    "make_dark_coffee()\n",
    "report()"
   ]
  },
  {
   "cell_type": "code",
   "execution_count": 11,
   "metadata": {},
   "outputs": [
    {
     "name": "stdout",
     "output_type": "stream",
     "text": [
      "Loading \\\n",
      "Done!\n",
      "\n",
      "        sugar--->900\n",
      "        water--->9400\n",
      "        milk--->4750\n",
      "        coffee-->1960\n",
      "        ice--->250\n",
      "        \n"
     ]
    }
   ],
   "source": [
    "import time\n",
    "import sys\n",
    "def make_late():\n",
    "    global water,milk, ice,sugar,coffee\n",
    "    milk -= 250\n",
    "    coffee -= 20\n",
    "    water -= 300\n",
    "    sugar -= 50\n",
    "    symbols = ['|', '/', '-', '\\\\']\n",
    "    \n",
    "    for _ in range(35):  \n",
    "        for symbol in symbols:\n",
    "            sys.stdout.write(f'\\rLoading {symbol}')\n",
    "            sys.stdout.flush()\n",
    "            time.sleep(0.050)  \n",
    "    \n",
    "    print(\"\\nDone!\")\n",
    "make_late()\n",
    "report()"
   ]
  },
  {
   "cell_type": "code",
   "execution_count": 19,
   "metadata": {},
   "outputs": [
    {
     "name": "stdout",
     "output_type": "stream",
     "text": [
      "\n",
      "\n",
      "    II____________________________________________________________________II\n",
      "    II                                                                    II\n",
      "    II              wellcome to advenced coffee machine                   II\n",
      "    II____________________________________________________________________II\n",
      "        1.Report(r)\n",
      "        2.Dark coffee(d)\n",
      "        3.late(l)\n",
      "        4.exit(e)\n",
      "    \n",
      "Loading \\\n",
      "Done!\n"
     ]
    }
   ],
   "source": [
    "def main_menu():\n",
    "    print('''\n",
    "\n",
    "    II____________________________________________________________________II\n",
    "    II                                                                    II\n",
    "    II              wellcome to advenced coffee machine                   II\n",
    "    II____________________________________________________________________II\n",
    "        1.Report(r)\n",
    "        2.Dark coffee(d)\n",
    "        3.late(l)\n",
    "        4.exit(e)\n",
    "    ''')\n",
    "    own = input(\":\".lower())\n",
    "    if own == \"r\":\n",
    "        report()\n",
    "    elif own == \"l\":\n",
    "        make_late()\n",
    "    elif own ==\"d\":\n",
    "        make_dark_coffee()\n",
    "    elif own == \"e\":\n",
    "        exit\n",
    "    else:\n",
    "        print (\"___???___\")\n",
    "        main_menu()\n",
    "main_menu()"
   ]
  }
 ],
 "metadata": {
  "kernelspec": {
   "display_name": "base",
   "language": "python",
   "name": "python3"
  },
  "language_info": {
   "codemirror_mode": {
    "name": "ipython",
    "version": 3
   },
   "file_extension": ".py",
   "mimetype": "text/x-python",
   "name": "python",
   "nbconvert_exporter": "python",
   "pygments_lexer": "ipython3",
   "version": "3.12.4"
  }
 },
 "nbformat": 4,
 "nbformat_minor": 2
}
