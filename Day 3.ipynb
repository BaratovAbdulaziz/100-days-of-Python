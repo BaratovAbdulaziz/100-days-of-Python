{
 "cells": [
  {
   "cell_type": "code",
   "execution_count": 5,
   "metadata": {},
   "outputs": [
    {
     "name": "stdout",
     "output_type": "stream",
     "text": [
      "A B you are not able to ride\n"
     ]
    }
   ],
   "source": [
    "#making a hight chacker\"rollercoster\"\n",
    "#the useage of if and else\n",
    "# if + condition + \"=\" + chack list ex: {a<b}\n",
    "# may be used \"<\">\"==\"<=\">=\"!=\"/\n",
    "name = input('Pleese enter your name:')\n",
    "surname = input ('and the surname pleese:')\n",
    "height = input('enter your height:')\n",
    "if int(height) < int(20):\n",
    "    print(name + \" \" + surname +\" \" + \"you are not able to ride\")\n",
    "else:\n",
    "    print(name + \" \" + surname +\" \" + \"you are able to ride\")"
   ]
  },
  {
   "cell_type": "code",
   "execution_count": 17,
   "metadata": {},
   "outputs": [
    {
     "name": "stdout",
     "output_type": "stream",
     "text": [
      "<class 'str'>\n",
      "Even\n"
     ]
    }
   ],
   "source": [
    "#we can use conditions like a numbers strings and so on like this{if int(a) % int(2) == 0:}\n",
    "\n",
    "a = input('you can wtite the number to chack if its \"Even\" or not')\n",
    "print(type(a))\n",
    "if int(a) % int(2) == 0:\n",
    "    print('Even')\n",
    "else:\n",
    "    print('not')"
   ]
  },
  {
   "cell_type": "code",
   "execution_count": 37,
   "metadata": {},
   "outputs": [
    {
     "name": "stdout",
     "output_type": "stream",
     "text": [
      "A B \n",
      "17 \n",
      "185 \n",
      "IS NOT ALLOWED\n"
     ]
    }
   ],
   "source": [
    "name = input('Enter your name: ')\n",
    "surname = input('Enter your last name: ')\n",
    "age = int(input('Enter your age: '))\n",
    "height = int(input('Enter your height in CM: '))\n",
    "\n",
    "if height >= 120:\n",
    "    if age > 18:\n",
    "        print(\"Let's book a $7 ticket\")\n",
    "    elif age < 7:\n",
    "        print('You are allowed to buy a $5 ticket')\n",
    "    elif age >= 18:\n",
    "        print('Good, but you are allowed to buy only a $15 ticket')\n",
    "    else:\n",
    "        print(f\"{name} {surname} \\n{age} \\n{height} \\nIS NOT ALLOWED\")\n",
    "else:\n",
    "    print(f\"{name} {surname} \\n{age} \\n{height} \\nIS NOT ALLOWED\")\n"
   ]
  },
  {
   "cell_type": "code",
   "execution_count": 43,
   "metadata": {},
   "outputs": [
    {
     "name": "stdout",
     "output_type": "stream",
     "text": [
      "Hi, this is the place where you can buy a ticket\n",
      "Your ticket costs $10\n",
      "You should pay $13\n"
     ]
    },
    {
     "data": {
      "text/plain": [
       "<IPython.core.autocall.ZMQExitAutocall at 0x1c5e78d4e00>"
      ]
     },
     "execution_count": 43,
     "metadata": {},
     "output_type": "execute_result"
    }
   ],
   "source": [
    "print(\"Hi, this is the place where you can buy a ticket\")\n",
    "\n",
    "# Getting details\n",
    "user_name = input('Please enter your name or nickname: ')\n",
    "user_lastname = input('Enter your surname: ')\n",
    "user_age = int(input('Ok, now your age: '))\n",
    "user_height = int(input('Lastly, your height in CM: '))\n",
    "\n",
    "# Now calculating ticket prices\n",
    "if user_age <= 3:\n",
    "    print('You are not allowed to enter')\n",
    "elif user_age < 7:\n",
    "    ticket_price = 4\n",
    "    print('Your ticket costs $4')\n",
    "elif user_age <= 18:\n",
    "    ticket_price = 10\n",
    "    print('Your ticket costs $10')\n",
    "else:\n",
    "    ticket_price = 7\n",
    "    print('Your ticket costs $7')\n",
    "\n",
    "# Asking about pictures\n",
    "cost = input('Are you going to buy pictures for an additional $3? (Yes/No): ')\n",
    "\n",
    "# Calculating overall payment\n",
    "overall_payment = ticket_price\n",
    "if cost == 'yes':\n",
    "    overall_payment += 3\n",
    "elif cost != 'no':\n",
    "    print(\"Didn't understand your response. Assuming no pictures.\")\n",
    "\n",
    "print('You should pay $' + str(overall_payment))\n",
    "\n",
    "exit"
   ]
  },
  {
   "cell_type": "code",
   "execution_count": 54,
   "metadata": {},
   "outputs": [
    {
     "name": "stdout",
     "output_type": "stream",
     "text": [
      "welcome to the \n",
      " PYTHON PIZZA\n",
      "sorry  we do not have such pizza\n",
      "0\n"
     ]
    }
   ],
   "source": [
    "# Project of PYTHON PIZZA\n",
    "\n",
    "# Collecting data\n",
    "print('Welcome to the \\nPYTHON PIZZA')\n",
    "U_price_manu = input('Do you want to see the cost menu?\\n(Y/N) ').strip().lower()\n",
    "U_type = input('What type of pizza do you want \\n(Large/Medium/Small)? ').strip().lower()\n",
    "U_pepperoni = input('Do you want pepperoni?\\n(Y/N) ').strip().lower()\n",
    "U_cheese = input('Do you want extra cheese?\\n(Y/N) ').strip().lower()\n",
    "U_bill = 0\n",
    "\n",
    "# Showing the price menu if requested\n",
    "if U_price_manu == \"y\":\n",
    "    print('''\n",
    "    Price Menu:\n",
    "    Large pizza: $10\n",
    "    Medium pizza: $7\n",
    "    Small pizza: $5\n",
    "    Pepperoni:\n",
    "        Large: +$3\n",
    "        Medium: +$2\n",
    "        Small: +$1\n",
    "    Cheese:\n",
    "        Large: +$3\n",
    "        Medium: +$2\n",
    "        Small: +$1\n",
    "    ''')\n",
    "\n",
    "# Calculating the bill\n",
    "if U_type == \"large\":\n",
    "    U_bill += 10\n",
    "elif U_type == \"medium\":\n",
    "    U_bill += 7\n",
    "elif U_type == \"small\":\n",
    "    U_bill += 5\n",
    "else:\n",
    "    print('Sorry, we do not have such pizza.')\n",
    "    U_bill = 0  # Reset the bill in case of an invalid pizza type\n",
    "\n",
    "if U_pepperoni == \"y\":\n",
    "    if U_type == \"large\":\n",
    "        U_bill += 3\n",
    "    elif U_type == \"medium\":\n",
    "        U_bill += 2\n",
    "    elif U_type == \"small\":\n",
    "        U_bill += 1\n",
    "\n",
    "if U_cheese == \"y\":\n",
    "    if U_type == \"large\":\n",
    "        U_bill += 3\n",
    "    elif U_type == \"medium\":\n",
    "        U_bill += 2\n",
    "    elif U_type == \"small\":\n",
    "        U_bill += 1\n",
    "\n",
    "print(f'Your total bill is: ${U_bill}')\n"
   ]
  },
  {
   "cell_type": "code",
   "execution_count": 8,
   "metadata": {},
   "outputs": [
    {
     "name": "stdout",
     "output_type": "stream",
     "text": [
      "You are not allowed to ride\n",
      "Your ticket is 10 dollars\n",
      "10\n"
     ]
    }
   ],
   "source": [
    "#training and training but I do not know where will I use it\n",
    "bill = 0\n",
    "User_height = float(input('Enter your height: '))\n",
    "\n",
    "if User_height > 120:\n",
    "    print('You are able to ride')\n",
    "else:\n",
    "    print('You are not allowed to ride')\n",
    "\n",
    "user_age = int(input('Enter your age: '))\n",
    "\n",
    "if user_age < 7:\n",
    "    print('Your ticket is 3 dollars')\n",
    "    bill += 3\n",
    "elif 7 <= user_age < 12:\n",
    "    print('Your ticket is 5 dollars')\n",
    "    bill += 5\n",
    "elif 12 <= user_age < 18:\n",
    "    print('Your ticket is 7 dollars')\n",
    "    bill += 7\n",
    "elif user_age >= 18 and user_age < 45:\n",
    "    print('Your ticket is 10 dollars')\n",
    "    bill += 10\n",
    "elif user_age >= 45:\n",
    "    print('You are able to enter for free')\n",
    "    bill = 0\n",
    "else:\n",
    "    print('Error')\n",
    "\n",
    "print(bill)\n"
   ]
  },
  {
   "cell_type": "code",
   "execution_count": 17,
   "metadata": {},
   "outputs": [
    {
     "name": "stdout",
     "output_type": "stream",
     "text": [
      "                @@@@          \n",
      "             @@@@@@@@@@       \n",
      "          @@@@@@@@@@@@@@      \n",
      "        @@@@@@     @@@@@@     \n",
      "      @@@@@@         @@@@@@   \n",
      "     @@@@@@           @@@@@@  \n",
      "    @@@@@@             @@@@@@ \n",
      "    @@@@@@             @@@@@@ \n",
      "     @@@@@@           @@@@@@  \n",
      "      @@@@@@         @@@@@@   \n",
      "        @@@@@@     @@@@@@     \n",
      "          @@@@@@@@@@@@@@      \n",
      "             @@@@@@@@@@       \n",
      "                @@@@         \n",
      "                \n",
      "You find yourself standing at the edge of a dense, eerie forest. The trees are tall and twisted, and a thick fog rolls between them. There's an unsettling silence, broken only by the occasional rustling of leaves.\n",
      "\n",
      "Choices to Move:\n",
      "\n",
      "Pathway to the Left (Move Left)\n",
      "Trail to the Right (Move Right) \n",
      "answer(L/R)\n",
      "You decide to take the pathway to the left. The trees close in around you as you move deeper into the forest.\n",
      "you met a girl what will you choose give her some meal or ignore\n",
      "game over because the was a zombie😂\n"
     ]
    },
    {
     "data": {
      "text/plain": [
       "<IPython.core.autocall.ZMQExitAutocall at 0x17d8ba14ef0>"
      ]
     },
     "execution_count": 17,
     "metadata": {},
     "output_type": "execute_result"
    }
   ],
   "source": [
    "#the choosing game that no one needs\n",
    "print ('''                @@@@          \n",
    "             @@@@@@@@@@       \n",
    "          @@@@@@@@@@@@@@      \n",
    "        @@@@@@     @@@@@@     \n",
    "      @@@@@@         @@@@@@   \n",
    "     @@@@@@           @@@@@@  \n",
    "    @@@@@@             @@@@@@ \n",
    "    @@@@@@             @@@@@@ \n",
    "     @@@@@@           @@@@@@  \n",
    "      @@@@@@         @@@@@@   \n",
    "        @@@@@@     @@@@@@     \n",
    "          @@@@@@@@@@@@@@      \n",
    "             @@@@@@@@@@       \n",
    "                @@@@         \n",
    "                ''')\n",
    "print('''You find yourself standing at the edge of a dense, eerie forest. The trees are tall and twisted, and a thick fog rolls between them. There's an unsettling silence, broken only by the occasional rustling of leaves.\n",
    "\n",
    "Choices to Move:\n",
    "\n",
    "Pathway to the Left (Move Left)\n",
    "Trail to the Right (Move Right) \n",
    "answer(L/R)''')\n",
    "alone = input ()\n",
    "if alone == 'R':\n",
    "    print(''' You choose the trail to the right. The path is narrow and overgrown, and you struggle to see through the thick fog.\n",
    "    Game Over Risk: You tumble down a hidden slope, hitting your head on a rock. The last thing you see is the dark sky above. GAME OVER.''')\n",
    "elif alone == 'L':\n",
    "    print('''You decide to take the pathway to the left. The trees close in around you as you move deeper into the forest.''')\n",
    "else :\n",
    "    print('error')\n",
    "print (\"you met a girl what will you choose give her some meal or ignore\") \n",
    "alone1 =input('Aswer(H/I)')\n",
    "if alone1 == 'H':\n",
    "    print ('game over because the was a zombie😂')\n",
    "elif alone1 == 'I':\n",
    "    print('good you escape the girl and get home using the portal that wass next to her')\n",
    "else:\n",
    "    print('Error')\n",
    "    exit\n",
    "exit"
   ]
  }
 ],
 "metadata": {
  "kernelspec": {
   "display_name": "base",
   "language": "python",
   "name": "python3"
  },
  "language_info": {
   "codemirror_mode": {
    "name": "ipython",
    "version": 3
   },
   "file_extension": ".py",
   "mimetype": "text/x-python",
   "name": "python",
   "nbconvert_exporter": "python",
   "pygments_lexer": "ipython3",
   "version": "3.12.4"
  }
 },
 "nbformat": 4,
 "nbformat_minor": 2
}
