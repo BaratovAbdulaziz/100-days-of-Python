{
 "cells": [
  {
   "cell_type": "code",
   "execution_count": 6,
   "metadata": {},
   "outputs": [],
   "source": [
    "water = 10000\n",
    "coffee = 1000\n",
    "milk = 1000\n",
    "sugar = 1000\n",
    "espresso = 1000"
   ]
  },
  {
   "cell_type": "code",
   "execution_count": 13,
   "metadata": {},
   "outputs": [
    {
     "name": "stderr",
     "output_type": "stream",
     "text": [
      "<>:3: SyntaxWarning: invalid escape sequence '\\-'\n",
      "<>:3: SyntaxWarning: invalid escape sequence '\\-'\n",
      "C:\\Users\\sokhi\\AppData\\Local\\Temp\\ipykernel_5600\\246655145.py:3: SyntaxWarning: invalid escape sequence '\\-'\n",
      "  print(f\"-Water: {water} ml\\n-Coffee: {coffee} ml\\n-Milk: {milk} ml\\n-Sugar: {sugar} ml\\\")\\-espesso: {espresso}ml\")\n"
     ]
    }
   ],
   "source": [
    "def report(water, sugar,coffee,milk,espresso):\n",
    "    print(f\"the machine has:\".lower())\n",
    "    print(f\"-Water: {water} ml\\n-Coffee: {coffee} ml\\n-Milk: {milk} ml\\n-Sugar: {sugar} ml\\\")\\-espesso: {espresso}ml\")\n",
    "def menu():\n",
    "    print(\"Available options:\")\n",
    "    print(\"Report(R)\")\n",
    "    print(\"Make a Black cofee(black)\")\n",
    "    print(\"Make a Late(Late)\")\n",
    "    print(\"Exit\")\n",
    "    menu_answer = input(\"choose one of the options\\nhere:\")\n",
    "    if menu_answer == \"r\":\n",
    "        report(water, sugar, coffee, espresso, milk)\n",
    "        return menu()\n",
    "    elif menu_answer == \"black\":\n",
    "        return black_cofee(water, coffee, milk, sugar)\n",
    "    elif menu_answer == \"late\":\n",
    "        return late(water, sugar, coffee, milk, espresso)\n",
    "    elif menu_answer == \"exit\":\n",
    "        print(\"Goodbye!\")\n",
    "        exit()\n",
    "\n",
    "def black_cofee(water,coffee,milk,sugar):\n",
    "    if coffee < 15 or water < 180:\n",
    "        print(\"Not enough resources to make a Black Coffee\")\n",
    "        return menu()\n",
    "    else:\n",
    "        if sugar > 25:\n",
    "            answer = input(\"Do you want to add sugar?\")\n",
    "            if answer.lower() == \"yes\":\n",
    "                sugar -= 25\n",
    "        water -= 180\n",
    "        coffee -= 15\n",
    "        coffee += 15\n",
    "        print(\"Making a Black Coffee...\")\n",
    "        report(water, sugar, coffee, milk)\n",
    "        return menu()\n",
    "def late(water, sugar, coffee, milk, espresso):\n",
    "    if water < 200 or coffee < 100 or milk < 150 or espresso < 60:\n",
    "        print(\"Not enough resources to make a Late\")\n",
    "        return menu()\n",
    "    else:\n",
    "        if sugar > 25:\n",
    "            answer = input(\"Do you want to add sugar?\")\n",
    "            if answer.lower() == \"yes\":\n",
    "                sugar -= 25\n",
    "        water -= 200\n",
    "        coffee -= 100\n",
    "        milk -= 150\n",
    "        espresso -= 60\n",
    "        print(\"Making a Late...\")\n",
    "        report(water, sugar, coffee, milk, espresso)\n",
    "        return menu()\n",
    "    "
   ]
  },
  {
   "cell_type": "code",
   "execution_count": 14,
   "metadata": {},
   "outputs": [
    {
     "name": "stdout",
     "output_type": "stream",
     "text": [
      "Available options:\n",
      "Report(R)\n",
      "Make a Black cofee(black)\n",
      "Make a Late(Late)\n",
      "Exit\n",
      "the machine has:\n",
      "-Water: 10000 ml\n",
      "-Coffee: 1000 ml\n",
      "-Milk: 1000 ml\n",
      "-Sugar: 1000 ml\")\\-espesso: 1000ml\n",
      "Available options:\n",
      "Report(R)\n",
      "Make a Black cofee(black)\n",
      "Make a Late(Late)\n",
      "Exit\n",
      "Making a Late...\n"
     ]
    },
    {
     "name": "stderr",
     "output_type": "stream",
     "text": [
      "C:\\Users\\sokhi\\AppData\\Local\\Temp\\ipykernel_5600\\246655145.py:3: SyntaxWarning: invalid escape sequence '\\-'\n",
      "  print(f\"-Water: {water} ml\\n-Coffee: {coffee} ml\\n-Milk: {milk} ml\\n-Sugar: {sugar} ml\\\")\\-espesso: {espresso}ml\")\n"
     ]
    },
    {
     "ename": "TypeError",
     "evalue": "report() missing 1 required positional argument: 'espresso'",
     "output_type": "error",
     "traceback": [
      "\u001b[1;31m---------------------------------------------------------------------------\u001b[0m",
      "\u001b[1;31mTypeError\u001b[0m                                 Traceback (most recent call last)",
      "Cell \u001b[1;32mIn[14], line 1\u001b[0m\n\u001b[1;32m----> 1\u001b[0m \u001b[43mmenu\u001b[49m\u001b[43m(\u001b[49m\u001b[43m)\u001b[49m\n",
      "Cell \u001b[1;32mIn[13], line 13\u001b[0m, in \u001b[0;36mmenu\u001b[1;34m()\u001b[0m\n\u001b[0;32m     11\u001b[0m \u001b[38;5;28;01mif\u001b[39;00m menu_answer \u001b[38;5;241m==\u001b[39m \u001b[38;5;124m\"\u001b[39m\u001b[38;5;124mr\u001b[39m\u001b[38;5;124m\"\u001b[39m:\n\u001b[0;32m     12\u001b[0m     report(water, sugar, coffee, espresso, milk)\n\u001b[1;32m---> 13\u001b[0m     \u001b[38;5;28;01mreturn\u001b[39;00m \u001b[43mmenu\u001b[49m\u001b[43m(\u001b[49m\u001b[43m)\u001b[49m\n\u001b[0;32m     14\u001b[0m \u001b[38;5;28;01melif\u001b[39;00m menu_answer \u001b[38;5;241m==\u001b[39m \u001b[38;5;124m\"\u001b[39m\u001b[38;5;124mblack\u001b[39m\u001b[38;5;124m\"\u001b[39m:\n\u001b[0;32m     15\u001b[0m     \u001b[38;5;28;01mreturn\u001b[39;00m black_cofee(water, coffee, milk, sugar)\n",
      "Cell \u001b[1;32mIn[13], line 17\u001b[0m, in \u001b[0;36mmenu\u001b[1;34m()\u001b[0m\n\u001b[0;32m     15\u001b[0m     \u001b[38;5;28;01mreturn\u001b[39;00m black_cofee(water, coffee, milk, sugar)\n\u001b[0;32m     16\u001b[0m \u001b[38;5;28;01melif\u001b[39;00m menu_answer \u001b[38;5;241m==\u001b[39m \u001b[38;5;124m\"\u001b[39m\u001b[38;5;124mlate\u001b[39m\u001b[38;5;124m\"\u001b[39m:\n\u001b[1;32m---> 17\u001b[0m     \u001b[38;5;28;01mreturn\u001b[39;00m \u001b[43mlate\u001b[49m\u001b[43m(\u001b[49m\u001b[43mwater\u001b[49m\u001b[43m,\u001b[49m\u001b[43m \u001b[49m\u001b[43msugar\u001b[49m\u001b[43m,\u001b[49m\u001b[43m \u001b[49m\u001b[43mcoffee\u001b[49m\u001b[43m,\u001b[49m\u001b[43m \u001b[49m\u001b[43mmilk\u001b[49m\u001b[43m,\u001b[49m\u001b[43m \u001b[49m\u001b[43mespresso\u001b[49m\u001b[43m)\u001b[49m\n\u001b[0;32m     18\u001b[0m \u001b[38;5;28;01melif\u001b[39;00m menu_answer \u001b[38;5;241m==\u001b[39m \u001b[38;5;124m\"\u001b[39m\u001b[38;5;124mexit\u001b[39m\u001b[38;5;124m\"\u001b[39m:\n\u001b[0;32m     19\u001b[0m     \u001b[38;5;28mprint\u001b[39m(\u001b[38;5;124m\"\u001b[39m\u001b[38;5;124mGoodbye!\u001b[39m\u001b[38;5;124m\"\u001b[39m)\n",
      "Cell \u001b[1;32mIn[13], line 51\u001b[0m, in \u001b[0;36mlate\u001b[1;34m(water, sugar, coffee, milk, espresso)\u001b[0m\n\u001b[0;32m     49\u001b[0m espresso \u001b[38;5;241m-\u001b[39m\u001b[38;5;241m=\u001b[39m \u001b[38;5;241m60\u001b[39m\n\u001b[0;32m     50\u001b[0m \u001b[38;5;28mprint\u001b[39m(\u001b[38;5;124m\"\u001b[39m\u001b[38;5;124mMaking a Late...\u001b[39m\u001b[38;5;124m\"\u001b[39m)\n\u001b[1;32m---> 51\u001b[0m \u001b[43mreport\u001b[49m\u001b[43m(\u001b[49m\u001b[43mwater\u001b[49m\u001b[43m,\u001b[49m\u001b[43m \u001b[49m\u001b[43msugar\u001b[49m\u001b[43m,\u001b[49m\u001b[43m \u001b[49m\u001b[43mcoffee\u001b[49m\u001b[43m,\u001b[49m\u001b[43m \u001b[49m\u001b[43mmilk\u001b[49m\u001b[43m)\u001b[49m\n\u001b[0;32m     52\u001b[0m \u001b[38;5;28;01mreturn\u001b[39;00m menu()\n",
      "\u001b[1;31mTypeError\u001b[0m: report() missing 1 required positional argument: 'espresso'"
     ]
    }
   ],
   "source": [
    "menu()"
   ]
  }
 ],
 "metadata": {
  "kernelspec": {
   "display_name": "base",
   "language": "python",
   "name": "python3"
  },
  "language_info": {
   "codemirror_mode": {
    "name": "ipython",
    "version": 3
   },
   "file_extension": ".py",
   "mimetype": "text/x-python",
   "name": "python",
   "nbconvert_exporter": "python",
   "pygments_lexer": "ipython3",
   "version": "3.12.4"
  }
 },
 "nbformat": 4,
 "nbformat_minor": 2
}
