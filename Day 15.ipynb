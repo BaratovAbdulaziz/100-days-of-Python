{
 "cells": [
  {
   "cell_type": "code",
   "execution_count": 2,
   "metadata": {},
   "outputs": [],
   "source": [
    "water = 10000\n",
    "coffee = 1000\n",
    "milk = 1000\n",
    "sugar = 1000\n",
    "espresso = 1000"
   ]
  },
  {
   "cell_type": "code",
   "execution_count": null,
   "metadata": {},
   "outputs": [],
   "source": [
    "def report(water, sugar,coffee,milk):\n",
    "    print(f\"the machine has:\")\n",
    "    print(f\"-Water: {water} ml\\n-Coffee: {coffee} ml\\n-Milk: {milk} ml\\n-Sugar: {sugar} ml\\\")\\-espesso: {espresso}\")\n",
    "def menu():\n",
    "    print(\"Available options:\")\n",
    "    print(\"Report(R)\")\n",
    "    print(\"Make a Black cofee(black)\")\n",
    "    print(\"Make a Late(Late)\")\n",
    "    print(\"Make a Americano(A)\")\n",
    "    print(\"Make a Cappuccino(c)\")\n",
    "    print(\"Exit\")\n",
    "\n",
    "\n",
    "\n",
    "\n",
    "\n",
    "\n",
    "def black_cofee(water,coffee,milk,sugar):\n",
    "    if coffee < 15 or water < 180:\n",
    "        print(\"Not enough resources to make a Black Coffee\")\n",
    "        return menu()\n",
    "    else:\n",
    "        if sugar > 25:\n",
    "            answer = input(\"Do you want to add sugar?\")\n",
    "            if answer.lower() == \"yes\":\n",
    "                sugar -= 25\n",
    "        water -= 180\n",
    "        coffee -= 15\n",
    "        coffee += 15\n",
    "        print(\"Making a Black Coffee...\")\n",
    "        report(water, sugar, coffee, milk)\n",
    "        return menu()\n",
    "def late(water, sugar, coffee, milk, espresso):\n",
    "    if water < 200 or coffee < 100 or milk < 150 or espresso < 60:\n",
    "        print(\"Not enough resources to make a Late\")\n",
    "        return menu()\n",
    "    else:\n",
    "        if sugar > 25:\n",
    "            answer = input(\"Do you want to add sugar?\")\n",
    "            if answer.lower() == \"yes\":\n",
    "                sugar -= 25\n",
    "        water -= 200\n",
    "        coffee -= 100\n",
    "        milk -= 150\n",
    "        espresso -= 60\n",
    "        print(\"Making a Late...\")\n",
    "        report(water, sugar, coffee, milk)\n",
    "        return menu()\n",
    "    "
   ]
  }
 ],
 "metadata": {
  "kernelspec": {
   "display_name": "base",
   "language": "python",
   "name": "python3"
  },
  "language_info": {
   "codemirror_mode": {
    "name": "ipython",
    "version": 3
   },
   "file_extension": ".py",
   "mimetype": "text/x-python",
   "name": "python",
   "nbconvert_exporter": "python",
   "pygments_lexer": "ipython3",
   "version": "3.12.4"
  }
 },
 "nbformat": 4,
 "nbformat_minor": 2
}
