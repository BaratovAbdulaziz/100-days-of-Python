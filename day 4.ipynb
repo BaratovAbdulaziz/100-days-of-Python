{
 "cells": [
  {
   "cell_type": "code",
   "execution_count": 25,
   "metadata": {},
   "outputs": [
    {
     "name": "stdout",
     "output_type": "stream",
     "text": [
      "3\n",
      "4.081177405183634\n",
      "0.44649285005398376\n",
      "6.753939581639709\n"
     ]
    }
   ],
   "source": [
    "import random\n",
    "#random.randint(a,b)  👆'=' to A  👇 '=' to B\n",
    "a = random.randint(1,3)\n",
    "print (a)\n",
    "#random.random() ---> random float number from 0 up to 1 \n",
    "#nothing in ()\n",
    "#using \" *F \" nethod to increase the number\n",
    "B = random.random() * 8\n",
    "c = random.random()\n",
    "print (B)\n",
    "print(c)\n",
    "#random.uniform(a,b)👆'=' to A  👇 to B\n",
    "D = random.uniform(1,10)\n",
    "print (D)"
   ]
  },
  {
   "cell_type": "code",
   "execution_count": 34,
   "metadata": {},
   "outputs": [
    {
     "name": "stdout",
     "output_type": "stream",
     "text": [
      "Hi,welcome to the heads and tails \n",
      " the game logic is that program randomly shows either Heads or Tails\n",
      "Just like a coin\n",
      "the result is Heads\n"
     ]
    }
   ],
   "source": [
    "#first interesting thing I am doung in python\n",
    "# Heads and Tails\n",
    "print('Hi,welcome to the heads and tails \\n the game logic is that program randomly shows either Heads or Tails\\nJust like a coin')\n",
    "a = random.randint(1,2)\n",
    "if a == 1:\n",
    "    print('the result is Heads')\n",
    "elif a == 2:\n",
    "    print('the result is Teils')\n",
    "else:\n",
    "    print('you will not be able to see this error')"
   ]
  },
  {
   "cell_type": "code",
   "execution_count": 61,
   "metadata": {},
   "outputs": [
    {
     "name": "stdout",
     "output_type": "stream",
     "text": [
      "['apple', 'banana', 'coconut']\n",
      "apple\n",
      "banana\n",
      "coconut\n",
      "\n",
      "\n",
      "coconut\n",
      "['apple', 'banans', 'coconut']\n",
      "['apple', 'banans', 'coconut', 'me and myself']\n"
     ]
    }
   ],
   "source": [
    "#list===>>> [\"item0\",\"item1\",\"item2\"]\n",
    "#start counting from 0\n",
    "a = [ \"apple\",\"banana\",\"coconut\" ]\n",
    "print(a)\n",
    "print (a [0])\n",
    "print (a [1])\n",
    "print (a [2])\n",
    "#we started from 0 to choose from left to right\n",
    "#if we want to start counting from right to left we start counting using \"-number\" this time from -1\n",
    "#example\n",
    "print('\\n')\n",
    "print  (a [-1])\n",
    "\n",
    "#we can easily change the information in the list or piece of data we should use \n",
    "#(the name of the list + [the number of the date in the list] = 'the data we are going to change with')\n",
    "#example\n",
    "a [1] = \"banans\"\n",
    "print(a)\n",
    "#we can add Items using\n",
    "#(list_name).append(\"new item name \")\n",
    "a.append(\"me and myself\")\n",
    "print(a)"
   ]
  },
  {
   "cell_type": "code",
   "execution_count": 72,
   "metadata": {},
   "outputs": [
    {
     "name": "stdout",
     "output_type": "stream",
     "text": [
      "Dream\n"
     ]
    }
   ],
   "source": [
    "#program that randomly chooses the people in the list to pay the bill for athers\n",
    "import random\n",
    "rewrite_it = [\"Andy\",\"Carl\",\"John\",\"Dream\",\"Sapnap\"]\n",
    "mast_pay = random.randint(0,4)\n",
    "print (rewrite_it[mast_pay])"
   ]
  },
  {
   "cell_type": "code",
   "execution_count": 78,
   "metadata": {},
   "outputs": [
    {
     "ename": "TypeError",
     "evalue": "can only concatenate str (not \"tuple\") to str",
     "output_type": "error",
     "traceback": [
      "\u001b[1;31m---------------------------------------------------------------------------\u001b[0m",
      "\u001b[1;31mTypeError\u001b[0m                                 Traceback (most recent call last)",
      "Cell \u001b[1;32mIn[78], line 25\u001b[0m\n\u001b[0;32m     23\u001b[0m     user_data \u001b[38;5;241m=\u001b[39m R\n\u001b[0;32m     24\u001b[0m computer \u001b[38;5;241m==\u001b[39m c\n\u001b[1;32m---> 25\u001b[0m \u001b[38;5;28mprint\u001b[39m (\u001b[38;5;124m\"\u001b[39m\u001b[38;5;124mcomputer \u001b[39m\u001b[38;5;130;01m\\n\u001b[39;00m\u001b[38;5;124m\"\u001b[39m \u001b[38;5;241m+\u001b[39m computer)\n\u001b[0;32m     26\u001b[0m \u001b[38;5;28mprint\u001b[39m(\u001b[38;5;124m'\u001b[39m\u001b[38;5;124myour choice is \u001b[39m\u001b[38;5;130;01m\\n\u001b[39;00m\u001b[38;5;124m'\u001b[39m \u001b[38;5;241m+\u001b[39m user_data)\n\u001b[0;32m     27\u001b[0m \u001b[38;5;28;01mif\u001b[39;00m computer \u001b[38;5;241m==\u001b[39m user_data:\n",
      "\u001b[1;31mTypeError\u001b[0m: can only concatenate str (not \"tuple\") to str"
     ]
    }
   ],
   "source": [
    "import random\n",
    "\n",
    "# Defining options\n",
    "R = \"✊\"\n",
    "P = \"✋\"\n",
    "S = \"✌️\"\n",
    "\n",
    "# Generate random choice for the computer\n",
    "a = random.randint(1, 3)\n",
    "\n",
    "# Assign the computer's choice based on the random number\n",
    "if a == 1:\n",
    "    c = R\n",
    "elif a == 2:\n",
    "    c = P\n",
    "elif a == 3:\n",
    "    c = S\n",
    "else:\n",
    "    print('You are so lucky')\n",
    "\n",
    "# Get user's choice\n",
    "User = input('Enter your choice (R/P/S): ')\n",
    "\n",
    "# Assign the user's choice based on the input\n",
    "if User == 'R':\n",
    "    user_data = R\n",
    "elif User == 'P':\n",
    "    user_data = P\n",
    "elif User == 'S':\n",
    "    user_data = S\n",
    "else:\n",
    "    print('Invalid input')\n",
    "    user_data = None\n",
    "\n",
    "# Print the choices\n",
    "print(\"Computer's choice: \" + c)\n",
    "print(\"Your choice: \" + user_data)\n",
    "\n",
    "# Determine the result\n",
    "if user_data is None:\n",
    "    print('No valid input was provided.')\n",
    "elif c == user_data:\n",
    "    print('Draw')\n",
    "elif (c == R and user_data == S) or (c == S and user_data == P) or (c == P and user_data == R):\n",
    "    print('You lose')\n",
    "else:\n",
    "    print('You win')\n"
   ]
  }
 ],
 "metadata": {
  "kernelspec": {
   "display_name": "base",
   "language": "python",
   "name": "python3"
  },
  "language_info": {
   "codemirror_mode": {
    "name": "ipython",
    "version": 3
   },
   "file_extension": ".py",
   "mimetype": "text/x-python",
   "name": "python",
   "nbconvert_exporter": "python",
   "pygments_lexer": "ipython3",
   "version": "3.12.4"
  }
 },
 "nbformat": 4,
 "nbformat_minor": 2
}
