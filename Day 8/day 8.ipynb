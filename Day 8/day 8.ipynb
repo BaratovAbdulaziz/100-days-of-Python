{
 "cells": [
  {
   "cell_type": "code",
   "execution_count": 2,
   "metadata": {},
   "outputs": [
    {
     "name": "stdout",
     "output_type": "stream",
     "text": [
      "A, You have spent\n",
      "Days: 6205\n",
      "Weeks: 886.43\n"
     ]
    }
   ],
   "source": [
    "age = input(\"Enter your age\\n\")\n",
    "name = input(\"enter you name\\n\")\n",
    "def weeks(age,name):\n",
    "    find_days = (int(365) * int(age))\n",
    "    find_weeks = round((int(find_days) / int(7)), 2)\n",
    "    print(f\"{name}, You have spent\\nDays: {find_days}\\nWeeks: {find_weeks}\")\n",
    "\n",
    "weeks(age,name)\n"
   ]
  },
  {
   "cell_type": "code",
   "execution_count": 29,
   "metadata": {},
   "outputs": [
    {
     "ename": "TypeError",
     "evalue": "coded_x() missing 3 required positional arguments: 'oreginal_message', 'shift_number', and 'output'",
     "output_type": "error",
     "traceback": [
      "\u001b[1;31m---------------------------------------------------------------------------\u001b[0m",
      "\u001b[1;31mTypeError\u001b[0m                                 Traceback (most recent call last)",
      "Cell \u001b[1;32mIn[29], line 21\u001b[0m\n\u001b[0;32m     19\u001b[0m     \u001b[38;5;28mprint\u001b[39m(output)\n\u001b[0;32m     20\u001b[0m \u001b[38;5;28;01mif\u001b[39;00m chack_list \u001b[38;5;241m==\u001b[39m \u001b[38;5;124m\"\u001b[39m\u001b[38;5;124mc\u001b[39m\u001b[38;5;124m\"\u001b[39m:\n\u001b[1;32m---> 21\u001b[0m     coded_x ()\n\u001b[0;32m     23\u001b[0m \u001b[38;5;28;01melif\u001b[39;00m chack_list \u001b[38;5;241m==\u001b[39m \u001b[38;5;124m\"\u001b[39m\u001b[38;5;124md\u001b[39m\u001b[38;5;124m\"\u001b[39m:\n\u001b[0;32m     24\u001b[0m     decode ()\n",
      "\u001b[1;31mTypeError\u001b[0m: coded_x() missing 3 required positional arguments: 'oreginal_message', 'shift_number', and 'output'"
     ]
    }
   ],
   "source": [
    "#my version that I could not fix\n",
    "letters = ['a', 'b', 'c', 'd', 'e', 'f', 'g', 'h', 'i', 'j', 'k', 'l', 'm', 'n', 'o', 'p', 'q', 'r', 's', 't', 'u', 'v', 'w', 'x', 'y', 'z']\n",
    "oreginal_message = input ('message')\n",
    "shift_number = input(\"number\")\n",
    "output = ''\n",
    "chack_list = input(\"to code your message write c if you want decode d\")\n",
    "\n",
    "def coded_x (oreginal_message,shift_number,output):\n",
    "    for x in oreginal_message:\n",
    "        support = letters.index(x) + int(shift_number)\n",
    "        compiller_text = letters[support]\n",
    "        output += compiller_text\n",
    "    print(output)\n",
    "def decode (oreginal_message,shift_number,output):\n",
    "\n",
    "    for x in oreginal_message:\n",
    "        support = letters.index(x) - int(shift_number)\n",
    "        compiller_text = letters[support]\n",
    "        output += compiller_text\n",
    "    print(output)\n",
    "if chack_list == \"c\":\n",
    "    coded_x ()\n",
    "\n",
    "elif chack_list == \"d\":\n",
    "    decode ()\n",
    "else:\n",
    "    print(\"error\")\n"
   ]
  },
  {
   "cell_type": "code",
   "execution_count": 30,
   "metadata": {},
   "outputs": [
    {
     "name": "stdout",
     "output_type": "stream",
     "text": [
      "Encoded message: eqfg 1\n"
     ]
    }
   ],
   "source": [
    "#the version that A I fixed\n",
    "letters = ['a', 'b', 'c', 'd', 'e', 'f', 'g', 'h', 'i', 'j', 'k', 'l', 'm', 'n', 'o', 'p', 'q', 'r', 's', 't', 'u', 'v', 'w', 'x', 'y', 'z']\n",
    "\n",
    "oreginal_message = input('Enter your message: ').lower()\n",
    "shift_number = int(input(\"Enter the shift number: \"))\n",
    "output = ''\n",
    "chack_list = input(\"To code your message, write 'c'. If you want to decode, write 'd': \")\n",
    "\n",
    "def coded_x(oreginal_message, shift_number):\n",
    "    output = ''\n",
    "    for x in oreginal_message:\n",
    "        if x in letters:\n",
    "            support = (letters.index(x) + shift_number) \n",
    "            compiller_text = letters[support]\n",
    "            output += compiller_text\n",
    "        else:\n",
    "            output += x  \n",
    "    print(\"Encoded message:\", output)\n",
    "\n",
    "def decode(oreginal_message, shift_number):\n",
    "    output = ''\n",
    "    for x in oreginal_message:\n",
    "        if x in letters:\n",
    "            support = (letters.index(x) - shift_number)\n",
    "            compiller_text = letters[support]\n",
    "            output += compiller_text\n",
    "        else:\n",
    "            output += x \n",
    "    print(\"Decoded message:\", output)\n",
    "\n",
    "if chack_list == \"c\":\n",
    "    coded_x(oreginal_message, shift_number)\n",
    "elif chack_list == \"d\":\n",
    "    decode(oreginal_message, shift_number)\n",
    "else:\n",
    "    print(\"Error: Invalid option. Please enter 'c' to code or 'd' to decode.\")\n",
    "\n"
   ]
  }
 ],
 "metadata": {
  "kernelspec": {
   "display_name": "base",
   "language": "python",
   "name": "python3"
  },
  "language_info": {
   "codemirror_mode": {
    "name": "ipython",
    "version": 3
   },
   "file_extension": ".py",
   "mimetype": "text/x-python",
   "name": "python",
   "nbconvert_exporter": "python",
   "pygments_lexer": "ipython3",
   "version": "3.12.4"
  }
 },
 "nbformat": 4,
 "nbformat_minor": 2
}
