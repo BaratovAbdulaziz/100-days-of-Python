{
 "cells": [
  {
   "cell_type": "code",
   "execution_count": 2,
   "metadata": {},
   "outputs": [
    {
     "name": "stdout",
     "output_type": "stream",
     "text": [
      "A, You have spent\n",
      "Days: 6205\n",
      "Weeks: 886.43\n"
     ]
    }
   ],
   "source": [
    "age = input(\"Enter your age\\n\")\n",
    "name = input(\"enter you name\\n\")\n",
    "def weeks(age,name):\n",
    "    find_days = (int(365) * int(age))\n",
    "    find_weeks = round((int(find_days) / int(7)), 2)\n",
    "    print(f\"{name}, You have spent\\nDays: {find_days}\\nWeeks: {find_weeks}\")\n",
    "\n",
    "weeks(age,name)\n"
   ]
  },
  {
   "cell_type": "code",
   "execution_count": 4,
   "metadata": {},
   "outputs": [
    {
     "ename": "TypeError",
     "evalue": "index expected at least 1 argument, got 0",
     "output_type": "error",
     "traceback": [
      "\u001b[1;31m---------------------------------------------------------------------------\u001b[0m",
      "\u001b[1;31mTypeError\u001b[0m                                 Traceback (most recent call last)",
      "Cell \u001b[1;32mIn[4], line 10\u001b[0m\n\u001b[0;32m      8\u001b[0m     \u001b[38;5;28mprint\u001b[39m(\u001b[38;5;124mf\u001b[39m\u001b[38;5;124m\"\u001b[39m\u001b[38;5;124mthe coded message is \u001b[39m\u001b[38;5;132;01m{\u001b[39;00mmessage_chack\u001b[38;5;132;01m}\u001b[39;00m\u001b[38;5;124m\"\u001b[39m)\n\u001b[0;32m      9\u001b[0m \u001b[38;5;28;01mif\u001b[39;00m a \u001b[38;5;241m==\u001b[39m \u001b[38;5;124m\"\u001b[39m\u001b[38;5;124mcode\u001b[39m\u001b[38;5;124m\"\u001b[39m:\n\u001b[1;32m---> 10\u001b[0m     code (User_message, b)\n",
      "Cell \u001b[1;32mIn[4], line 7\u001b[0m, in \u001b[0;36mcode\u001b[1;34m(message, number)\u001b[0m\n\u001b[0;32m      5\u001b[0m \u001b[38;5;28;01mdef\u001b[39;00m \u001b[38;5;21mcode\u001b[39m (message, number):\n\u001b[0;32m      6\u001b[0m     \u001b[38;5;28;01mfor\u001b[39;00m message_chack \u001b[38;5;129;01min\u001b[39;00m message:\n\u001b[1;32m----> 7\u001b[0m         letters\u001b[38;5;241m.\u001b[39mindex() \u001b[38;5;241m+\u001b[39m number\n\u001b[0;32m      8\u001b[0m     \u001b[38;5;28mprint\u001b[39m(\u001b[38;5;124mf\u001b[39m\u001b[38;5;124m\"\u001b[39m\u001b[38;5;124mthe coded message is \u001b[39m\u001b[38;5;132;01m{\u001b[39;00mmessage_chack\u001b[38;5;132;01m}\u001b[39;00m\u001b[38;5;124m\"\u001b[39m)\n",
      "\u001b[1;31mTypeError\u001b[0m: index expected at least 1 argument, got 0"
     ]
    }
   ],
   "source": [
    "letters = ['a', 'b', 'c', 'd', 'e', 'f', 'g', 'h', 'i', 'j', 'k', 'l', 'm', 'n', 'o', 'p', 'q', 'r', 's', 't', 'u', 'v', 'w', 'x', 'y', 'z']\n",
    "a = input(\"are you going to code or decode?\\n\")\n",
    "b = input(\"enter the shift number\")\n",
    "User_message = input(\"enter the message here:\")\n",
    "def code (message, number):\n",
    "    for message_chack in message:\n",
    "        letters.index() + number\n",
    "    print(f\"the coded message is {message_chack}\")\n",
    "if a == \"code\":\n",
    "    code (User_message, b)"
   ]
  }
 ],
 "metadata": {
  "kernelspec": {
   "display_name": "base",
   "language": "python",
   "name": "python3"
  },
  "language_info": {
   "codemirror_mode": {
    "name": "ipython",
    "version": 3
   },
   "file_extension": ".py",
   "mimetype": "text/x-python",
   "name": "python",
   "nbconvert_exporter": "python",
   "pygments_lexer": "ipython3",
   "version": "3.12.4"
  }
 },
 "nbformat": 4,
 "nbformat_minor": 2
}
