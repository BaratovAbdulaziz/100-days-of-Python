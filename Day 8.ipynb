{
 "cells": [
  {
   "cell_type": "code",
   "execution_count": 2,
   "metadata": {},
   "outputs": [
    {
     "name": "stdout",
     "output_type": "stream",
     "text": [
      "A, You have spent\n",
      "Days: 6205\n",
      "Weeks: 886.43\n"
     ]
    }
   ],
   "source": [
    "age = input(\"Enter your age\\n\")\n",
    "name = input(\"enter you name\\n\")\n",
    "def weeks(age,name):\n",
    "    find_days = (int(365) * int(age))\n",
    "    find_weeks = round((int(find_days) / int(7)), 2)\n",
    "    print(f\"{name}, You have spent\\nDays: {find_days}\\nWeeks: {find_weeks}\")\n",
    "\n",
    "weeks(age,name)\n"
   ]
  },
  {
   "cell_type": "code",
   "execution_count": 2,
   "metadata": {},
   "outputs": [
    {
     "name": "stdout",
     "output_type": "stream",
     "text": [
      "error\n"
     ]
    }
   ],
   "source": [
    "#my version that I could not fix\n",
    "letters = ['a', 'b', 'c', 'd', 'e', 'f', 'g', 'h', 'i', 'j', 'k', 'l', 'm', 'n', 'o', 'p', 'q', 'r', 's', 't', 'u', 'v', 'w', 'x', 'y', 'z']\n",
    "oreginal_message = input('message')\n",
    "shift_number = input(\"number\")\n",
    "output = ''\n",
    "chack_list = input(\"to code your message write c if you want decode d\")\n",
    "\n",
    "def coded_x(message,shift,output):\n",
    "    for x in message:\n",
    "        support = letters.index(x) + int(shift)\n",
    "        output += letters[support]\n",
    "    print(output)\n",
    "\n",
    "\n",
    "def decode(oreginal_message,shift_number,output):\n",
    "\n",
    "    for x in oreginal_message:\n",
    "        support = letters.index(x) - int(shift_number) #I == 9 - shift_number(2) {9-2} == h\n",
    "        output += letters[support]\n",
    "    print(output)\n",
    "\n",
    "    \n",
    "if chack_list == \"c\":\n",
    "    coded_x(oreginal_message,shift_number,output)\n",
    "\n",
    "elif chack_list == \"d\":\n",
    "    decode(oreginal_message,shift_number,output)\n",
    "else:\n",
    "    print(\"error\")\n"
   ]
  },
  {
   "cell_type": "code",
   "execution_count": 1,
   "metadata": {},
   "outputs": [
    {
     "name": "stderr",
     "output_type": "stream",
     "text": [
      "<>:2: SyntaxWarning: invalid escape sequence '\\|'\n",
      "<>:2: SyntaxWarning: invalid escape sequence '\\|'\n",
      "C:\\Users\\sokhi\\AppData\\Local\\Temp\\ipykernel_16276\\3435459068.py:2: SyntaxWarning: invalid escape sequence '\\|'\n",
      "  print ('''\n"
     ]
    },
    {
     "name": "stdout",
     "output_type": "stream",
     "text": [
      "\n",
      "  ____      _                _   ____ _             \n",
      " / ___|___ | |_ __ _ _ __   | |_| __ ) | __ _ _ __  \n",
      "| |   / _ \\| __/ _` | '_ \\  | __|  _ \\ |/ _` | '_ \\ \n",
      "| |__| (_) | || (_| | | | | | |_| |_) | | (_| | | | |\n",
      " \\____\\___/ \\__\\__,_|_| |_|  \\__|____/|_|\\__,_|_| |_|\n",
      "\n",
      "Encoded message: jgnnq\n"
     ]
    }
   ],
   "source": [
    "#the version that A I fixed\n",
    "print ('''\n",
    "  ____      _                _   ____ _             \n",
    " / ___|___ | |_ __ _ _ __   | |_| __ ) | __ _ _ __  \n",
    "| |   / _ \\| __/ _` | '_ \\  | __|  _ \\ |/ _` | '_ \\ \n",
    "| |__| (_) | || (_| | | | | | |_| |_) | | (_| | | | |\n",
    " \\____\\___/ \\__\\__,_|_| |_|  \\__|____/|_|\\__,_|_| |_|\n",
    "''')\n",
    "letters = ['a', 'b', 'c', 'd', 'e', 'f', 'g', 'h', 'i', 'j', 'k', 'l', 'm', 'n', 'o', 'p', 'q', 'r', 's', 't', 'u', 'v', 'w', 'x', 'y', 'z']\n",
    "\n",
    "oreginal_message = input('Enter your message: ').lower()\n",
    "shift_number = int(input(\"Enter the shift number: \"))\n",
    "output = ''\n",
    "chack_list = input(\"To code your message, write 'c'. If you want to decode, write 'd': \")\n",
    "\n",
    "def coded_x(oreginal_message, shift_number):\n",
    "    output = ''\n",
    "    for x in oreginal_message:\n",
    "        if x in letters:\n",
    "            support = (letters.index(x) + shift_number) \n",
    "            compiller_text = letters[support]\n",
    "            output += compiller_text\n",
    "        else:\n",
    "            output += x  \n",
    "    print(\"Encoded message:\", output)\n",
    "\n",
    "def decode(oreginal_message, shift_number):\n",
    "    output = ''\n",
    "    for x in oreginal_message:\n",
    "        if x in letters:\n",
    "            support = (letters.index(x) - shift_number)\n",
    "            compiller_text = letters[support]\n",
    "            output += compiller_text\n",
    "        else:\n",
    "            output += x \n",
    "    print(\"Decoded message:\", output)\n",
    "\n",
    "if chack_list == \"c\":\n",
    "    coded_x(oreginal_message, shift_number)\n",
    "elif chack_list == \"d\":\n",
    "    decode(oreginal_message, shift_number)\n",
    "else:\n",
    "    print(\"Error: Invalid option. Please enter 'c' to code or 'd' to decode.\")\n",
    "\n"
   ]
  }
 ],
 "metadata": {
  "kernelspec": {
   "display_name": "base",
   "language": "python",
   "name": "python3"
  },
  "language_info": {
   "codemirror_mode": {
    "name": "ipython",
    "version": 3
   },
   "file_extension": ".py",
   "mimetype": "text/x-python",
   "name": "python",
   "nbconvert_exporter": "python",
   "pygments_lexer": "ipython3",
   "version": "3.12.4"
  }
 },
 "nbformat": 4,
 "nbformat_minor": 2
}
