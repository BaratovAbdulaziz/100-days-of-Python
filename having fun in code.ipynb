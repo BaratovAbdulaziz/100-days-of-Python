{
 "cells": [
  {
   "cell_type": "code",
   "execution_count": 7,
   "metadata": {},
   "outputs": [
    {
     "name": "stdout",
     "output_type": "stream",
     "text": [
      "['a', 'a', 's']\n"
     ]
    }
   ],
   "source": [
    "import random\n",
    "data = []\n",
    "a = input ('enter anything')\n",
    "b = input ('enter anything')\n",
    "c = input ('enter anything')\n",
    "data += a,b,c\n",
    "\n",
    "random.shuffle(data)\n",
    "email = \"\"\n",
    "email += str(data)\n",
    "print (email)"
   ]
  }
 ],
 "metadata": {
  "kernelspec": {
   "display_name": "base",
   "language": "python",
   "name": "python3"
  },
  "language_info": {
   "codemirror_mode": {
    "name": "ipython",
    "version": 3
   },
   "file_extension": ".py",
   "mimetype": "text/x-python",
   "name": "python",
   "nbconvert_exporter": "python",
   "pygments_lexer": "ipython3",
   "version": "3.12.4"
  }
 },
 "nbformat": 4,
 "nbformat_minor": 2
}
