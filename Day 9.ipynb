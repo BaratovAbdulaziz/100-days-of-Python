{
 "cells": [
  {
   "cell_type": "code",
   "execution_count": 1,
   "metadata": {},
   "outputs": [],
   "source": [
    "Main_dict = {}\n",
    "full_name = input(\"What is your name? \")\n",
    "email = input(\"Enter your email address: \")\n",
    "phone_number = input(\"Enter your phone number: \")\n",
    "country = input(\"Enter the country you live in: \")\n",
    "summary = input(\"What are your professional goals? \")\n",
    "job_title = input(\"What is your job title? \")\n",
    "worked_company = input(\"Where have you worked so far? \")\n",
    "location_company = input(\"Where was the company located? \")\n",
    "joining_company = input(\"the name of the company you are going to enter\")\n"
   ]
  },
  {
   "cell_type": "code",
   "execution_count": 2,
   "metadata": {},
   "outputs": [],
   "source": [
    "# trying to add input info toa dict \n",
    "Main_dict[\"full_name\"] = full_name\n",
    "Main_dict[\"email\"] = email\n",
    "Main_dict[\"phone_number\"] = phone_number\n",
    "Main_dict[\"country\"] = country\n",
    "Main_dict[\"summary\"] = summary\n",
    "Main_dict[\"job_title\"] = job_title\n",
    "Main_dict[\"worked_company\"] = worked_company\n",
    "Main_dict[\"location_company\"] = location_company\n",
    "Main_dict[\"joining_company\"]= joining_company"
   ]
  },
  {
   "cell_type": "code",
   "execution_count": 3,
   "metadata": {},
   "outputs": [
    {
     "name": "stdout",
     "output_type": "stream",
     "text": [
      "Dear \n",
      "       \n",
      "     \n",
      "       I would like to join to your companies' team\n",
      "      here is my work's history\n",
      "       \n",
      "      I have already worked in  as a \n",
      "      I hoope to join and my hands would be helpful for your company\n",
      "      Full name: \n",
      "      Email: \n",
      "      contact number: \n",
      "      country: \n",
      "from  to \n",
      "    \n"
     ]
    }
   ],
   "source": [
    "print(f'''Dear {joining_company}\n",
    "       \n",
    "     \n",
    "       I would like to join to your companies' team\n",
    "      here is my work's history\n",
    "      {summary} \n",
    "      I have already worked in {worked_company} as a {job_title}\n",
    "      I hoope to join and my hands would be helpful for your company\n",
    "      Full name: {full_name}\n",
    "      Email: {email}\n",
    "      contact number: {phone_number}\n",
    "      country: {country}\n",
    "from {email} to {joining_company}\n",
    "    ''')"
   ]
  },
  {
   "cell_type": "code",
   "execution_count": 4,
   "metadata": {},
   "outputs": [
    {
     "ename": "SyntaxError",
     "evalue": "'break' outside loop (4055792670.py, line 10)",
     "output_type": "error",
     "traceback": [
      "\u001b[1;36m  Cell \u001b[1;32mIn[4], line 10\u001b[1;36m\u001b[0m\n\u001b[1;33m    break\u001b[0m\n\u001b[1;37m    ^\u001b[0m\n\u001b[1;31mSyntaxError\u001b[0m\u001b[1;31m:\u001b[0m 'break' outside loop\n"
     ]
    }
   ],
   "source": [
    "#dictionary maker\n",
    "train = {}\n",
    "while checker != \"no\":\n",
    "    checker = \"\"\n",
    "    a = input(\"Write the word itself\")\n",
    "    b = input(\"write a meaning pf the word\")\n",
    "    train [a] = b\n",
    "else:\n",
    "    print(train.items)"
   ]
  },
  {
   "cell_type": "code",
   "execution_count": 13,
   "metadata": {},
   "outputs": [],
   "source": [
    "max_bill = 0\n",
    "c = \"yes\"\n",
    "while c != \"no\":\n",
    "    c = input(\"is there anyone?\")\n",
    "    a = input('what is your name')\n",
    "    b = input(\"enter your bill\")\n",
    "    check_dict = {}\n",
    "    check_dict[\"a\"] = \"b\"\n",
    "if c == \"no\":\n",
    "    print(max (check_dict.values))"
   ]
  },
  {
   "cell_type": "code",
   "execution_count": 10,
   "metadata": {},
   "outputs": [
    {
     "name": "stdout",
     "output_type": "stream",
     "text": [
      "\n",
      ",adPPYYba, 88       88  ,adPPYba, MM88MMM 88  ,adPPYba,  8b,dPPYba,   \n",
      "\"\"     Y8 88       88 a8\"     \"\"   88    88 a8\"     \"8a 88P'   \"8a  \n",
      ",adPPPPP88 88       88 8b           88    88 8b       d8 88       88  \n",
      "88,    ,88 \"8a,   ,a88 \"8a,   ,aa   88,   88 \"8a,   ,a8\" 88       88  \n",
      "\"8bbdP\"Y8  \"YbbdP'Y8  \"Ybbd8\"'   \"Y888 88  \"YbbdP\"'  88       88  \n",
      "\n"
     ]
    },
    {
     "ename": "TypeError",
     "evalue": "'>' not supported between instances of 'str' and 'int'",
     "output_type": "error",
     "traceback": [
      "\u001b[1;31m---------------------------------------------------------------------------\u001b[0m",
      "\u001b[1;31mTypeError\u001b[0m                                 Traceback (most recent call last)",
      "Cell \u001b[1;32mIn[10], line 23\u001b[0m\n\u001b[0;32m     21\u001b[0m     \u001b[38;5;28;01melse\u001b[39;00m:\n\u001b[0;32m     22\u001b[0m             \u001b[38;5;28mprint\u001b[39m (\u001b[38;5;124mf\u001b[39m\u001b[38;5;124m\"\u001b[39m\u001b[38;5;124mthe winner is \u001b[39m\u001b[38;5;132;01m{\u001b[39;00mchack_list\u001b[38;5;132;01m}\u001b[39;00m\u001b[38;5;124m$\u001b[39m\u001b[38;5;124m\"\u001b[39m)\n\u001b[1;32m---> 23\u001b[0m player(cost,meta_cost)\n",
      "Cell \u001b[1;32mIn[10], line 18\u001b[0m, in \u001b[0;36mplayer\u001b[1;34m(player_cost, chack_list)\u001b[0m\n\u001b[0;32m     15\u001b[0m done \u001b[38;5;241m=\u001b[39m \u001b[38;5;28minput\u001b[39m(\u001b[38;5;124m\"\u001b[39m\u001b[38;5;124mis there any players? (yes/no)\u001b[39m\u001b[38;5;124m\"\u001b[39m)\n\u001b[0;32m     16\u001b[0m \u001b[38;5;28;01mwhile\u001b[39;00m done \u001b[38;5;241m!=\u001b[39m \u001b[38;5;124m\"\u001b[39m\u001b[38;5;124mno\u001b[39m\u001b[38;5;124m\"\u001b[39m:\n\u001b[1;32m---> 18\u001b[0m     \u001b[38;5;28;01mif\u001b[39;00m player_cost \u001b[38;5;241m>\u001b[39m chack_list:\n\u001b[0;32m     19\u001b[0m         chack_list \u001b[38;5;241m==\u001b[39m {player_cost} \u001b[38;5;241m+\u001b[39m \u001b[38;5;124m\"\u001b[39m\u001b[38;5;124m \u001b[39m\u001b[38;5;124m\"\u001b[39m \u001b[38;5;241m+\u001b[39m {name}\n\u001b[0;32m     21\u001b[0m \u001b[38;5;28;01melse\u001b[39;00m:\n",
      "\u001b[1;31mTypeError\u001b[0m: '>' not supported between instances of 'str' and 'int'"
     ]
    }
   ],
   "source": [
    "print('''\n",
    ",adPPYYba, 88       88  ,adPPYba, MM88MMM 88  ,adPPYba,  8b,dPPYba,   \n",
    "\"\"     Y8 88       88 a8\"     \"\"   88    88 a8\"     \"8a 88P'   \"8a  \n",
    ",adPPPPP88 88       88 8b           88    88 8b       d8 88       88  \n",
    "88,    ,88 \"8a,   ,a88 \"8a,   ,aa   88,   88 \"8a,   ,a8\" 88       88  \n",
    "\"8bbdP\"Y8  \"YbbdP'Y8  \"Ybbd8\"'   \"Y888 88  \"YbbdP\"'  88       88  \n",
    "''')\n",
    "player_name = input(\"enter your name\\n\")\n",
    "cost = input(\"how much can you saggest? \\n$\")\n",
    "meta = []\n",
    "meta_cost = 0\n",
    "\n",
    "\n",
    "def player(player_cost,chack_list):\n",
    "    done = input(\"is there any players? (yes/no)\")\n",
    "    while done != \"no\":\n",
    "\n",
    "        if player_cost > chack_list:\n",
    "            chack_list == {player_cost} + \" \" + {name}\n",
    "           \n",
    "    else:\n",
    "            print (f\"the winner is {chack_list}$\")\n",
    "player(cost,meta_cost)"
   ]
  },
  {
   "cell_type": "code",
   "execution_count": 5,
   "metadata": {},
   "outputs": [
    {
     "name": "stdout",
     "output_type": "stream",
     "text": [
      "\n",
      ",adPPYYba, 88       88  ,adPPYba, MM88MMM 88  ,adPPYba,  8b,dPPYba,   \n",
      "\"\"     Y8 88       88 a8\"     \"\"   88    88 a8\"     \"8a 88P'   \"8a  \n",
      ",adPPPPP88 88       88 8b           88    88 8b       d8 88       88  \n",
      "88,    ,88 \"8a,   ,a88 \"8a,   ,aa   88,   88 \"8a,   ,a8\" 88       88  \n",
      "\"8bbdP\"Y8  \"YbbdP'Y8  \"Ybbd8\"'   \"Y888 88  \"YbbdP\"'  88       88  \n",
      "\n"
     ]
    },
    {
     "ename": "ValueError",
     "evalue": "invalid literal for int() with base 10: 'bee'",
     "output_type": "error",
     "traceback": [
      "\u001b[1;31m---------------------------------------------------------------------------\u001b[0m",
      "\u001b[1;31mValueError\u001b[0m                                Traceback (most recent call last)",
      "Cell \u001b[1;32mIn[5], line 30\u001b[0m\n\u001b[0;32m     27\u001b[0m     \u001b[38;5;28;01melse\u001b[39;00m:\n\u001b[0;32m     28\u001b[0m         \u001b[38;5;28mprint\u001b[39m(\u001b[38;5;124m\"\u001b[39m\u001b[38;5;124mNo players added.\u001b[39m\u001b[38;5;124m\"\u001b[39m)\n\u001b[1;32m---> 30\u001b[0m player()\n",
      "Cell \u001b[1;32mIn[5], line 19\u001b[0m, in \u001b[0;36mplayer\u001b[1;34m()\u001b[0m\n\u001b[0;32m     17\u001b[0m     \u001b[38;5;28;01mbreak\u001b[39;00m\n\u001b[0;32m     18\u001b[0m name \u001b[38;5;241m=\u001b[39m \u001b[38;5;28minput\u001b[39m(\u001b[38;5;124m\"\u001b[39m\u001b[38;5;124mEnter the player\u001b[39m\u001b[38;5;124m'\u001b[39m\u001b[38;5;124ms name: \u001b[39m\u001b[38;5;124m\"\u001b[39m)\n\u001b[1;32m---> 19\u001b[0m cost \u001b[38;5;241m=\u001b[39m \u001b[38;5;28mint\u001b[39m(\u001b[38;5;28minput\u001b[39m(\u001b[38;5;124m\"\u001b[39m\u001b[38;5;124mEnter the player\u001b[39m\u001b[38;5;124m'\u001b[39m\u001b[38;5;124ms cost: $\u001b[39m\u001b[38;5;124m\"\u001b[39m))\n\u001b[0;32m     20\u001b[0m meta\u001b[38;5;241m.\u001b[39mappend((name, cost))\n\u001b[0;32m     21\u001b[0m total_cost \u001b[38;5;241m+\u001b[39m\u001b[38;5;241m=\u001b[39m cost  \u001b[38;5;66;03m# Accumulate total cost\u001b[39;00m\n",
      "\u001b[1;31mValueError\u001b[0m: invalid literal for int() with base 10: 'bee'"
     ]
    }
   ],
   "source": [
    "bassic_info{\n",
    "    \"Bug\":\"Container: A flexible container used for carrying items, such as a backpack, handbag, or grocery bag.\",\n",
    "    \"function\":\"A Python function is a block of reusable code that performs a specific task, can take inputs (parameters), and returns a result.\",\n",
    "    \"loop\": \"A loop in Python is a control structure that repeatedly executes a block of code as long as a specified condition is met. It's used to automate repetitive tasks.\",\n",
    "}\n"
   ]
  },
  {
   "cell_type": "code",
   "execution_count": 2,
   "metadata": {},
   "outputs": [
    {
     "name": "stdout",
     "output_type": "stream",
     "text": [
      "\n",
      "\n",
      "\n",
      "\n",
      "\n",
      "\n",
      "\n",
      "\n",
      "\n",
      "\n",
      "\n",
      "10\n"
     ]
    }
   ],
   "source": [
    "check = \"\"\n",
    "while check != \"no\":\n",
    "    check= input(\"is there any one?\")\n",
    "    dict_add = {}\n",
    "    a = input (\"what is your name?\")\n",
    "    b = input(\" what is your bill\")\n",
    "    dict_add [a] = b\n",
    "    if check == \"yes\":\n",
    "        print(\"\\n\"*10)\n",
    "    else:\n",
    "        max_key = max(dict_add, key=dict_add.get)\n",
    "        print(max_key)\n",
    "        break"
   ]
  },
  {
   "cell_type": "code",
   "execution_count": 10,
   "metadata": {},
   "outputs": [
    {
     "ename": "TypeError",
     "evalue": "max expected at least 1 argument, got 0",
     "output_type": "error",
     "traceback": [
      "\u001b[1;31m---------------------------------------------------------------------------\u001b[0m",
      "\u001b[1;31mTypeError\u001b[0m                                 Traceback (most recent call last)",
      "Cell \u001b[1;32mIn[10], line 6\u001b[0m\n\u001b[0;32m      1\u001b[0m dict_s \u001b[38;5;241m=\u001b[39m {\n\u001b[0;32m      2\u001b[0m     \u001b[38;5;124m\"\u001b[39m\u001b[38;5;124ma\u001b[39m\u001b[38;5;124m\"\u001b[39m:\u001b[38;5;124m\"\u001b[39m\u001b[38;5;124m10\u001b[39m\u001b[38;5;124m\"\u001b[39m,\n\u001b[0;32m      3\u001b[0m     \u001b[38;5;124m\"\u001b[39m\u001b[38;5;124mb\u001b[39m\u001b[38;5;124m\"\u001b[39m:\u001b[38;5;124m\"\u001b[39m\u001b[38;5;124m20\u001b[39m\u001b[38;5;124m\"\u001b[39m,\n\u001b[0;32m      4\u001b[0m     \u001b[38;5;124m\"\u001b[39m\u001b[38;5;124mc\u001b[39m\u001b[38;5;124m\"\u001b[39m:\u001b[38;5;124m\"\u001b[39m\u001b[38;5;124m30\u001b[39m\u001b[38;5;124m\"\u001b[39m,\n\u001b[0;32m      5\u001b[0m }\n\u001b[1;32m----> 6\u001b[0m \u001b[38;5;28mmax\u001b[39m(key\u001b[38;5;241m=\u001b[39mdict_s\u001b[38;5;241m.\u001b[39mget)\n",
      "\u001b[1;31mTypeError\u001b[0m: max expected at least 1 argument, got 0"
     ]
    }
   ],
   "source": [
    "dict_s = {\n",
    "    \"a\":\"10\",\n",
    "    \"b\":\"20\",\n",
    "    \"c\":\"30\",\n",
    "}\n",
    "max(key=dict_s.get)"
   ]
  }
 ],
 "metadata": {
  "kernelspec": {
   "display_name": "base",
   "language": "python",
   "name": "python3"
  },
  "language_info": {
   "codemirror_mode": {
    "name": "ipython",
    "version": 3
   },
   "file_extension": ".py",
   "mimetype": "text/x-python",
   "name": "python",
   "nbconvert_exporter": "python",
   "pygments_lexer": "ipython3",
   "version": "3.12.4"
  }
 },
 "nbformat": 4,
 "nbformat_minor": 2
}
