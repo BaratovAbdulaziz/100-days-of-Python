{
 "cells": [
  {
   "cell_type": "code",
   "execution_count": 1,
   "metadata": {},
   "outputs": [
    {
     "name": "stdout",
     "output_type": "stream",
     "text": [
      "Welcome to Hangman!\n",
      "_ _ _ _ _\n",
      "Chances left: 7\n",
      "Guessed letters: \n",
      "Good guess!\n",
      "a _ _ _ _\n",
      "Chances left: 7\n",
      "Guessed letters: a\n",
      "Good guess!\n",
      "a p p _ _\n",
      "Chances left: 7\n",
      "Guessed letters: a p\n",
      "Wrong guess.\n",
      "a p p _ _\n",
      "Chances left: 6\n",
      "Guessed letters: a p x\n",
      "Good guess!\n",
      "a p p l _\n",
      "Chances left: 6\n",
      "Guessed letters: a l p x\n",
      "Wrong guess.\n",
      "a p p l _\n",
      "Chances left: 5\n",
      "Guessed letters: a d l p x\n",
      "You've already guessed that letter. Try again.\n",
      "a p p l _\n",
      "Chances left: 5\n",
      "Guessed letters: a d l p x\n",
      "Good guess!\n",
      "Congratulations! You've guessed the word: apple\n"
     ]
    }
   ],
   "source": [
    "import random\n",
    "\n",
    "print('Welcome to Hangman!')\n",
    "\n",
    "list_words = [\"apple\", \"road\", \"rare\", \"python\", \"hangman\", \"computer\", \"programming\"]\n",
    "\n",
    "random_word = random.choice(list_words)\n",
    "word_length = len(random_word)\n",
    "\n",
    "chances = 7\n",
    "display = ['_'] * word_length\n",
    "guessed_letters = set()\n",
    "\n",
    "while chances > 0 and '_' in display:\n",
    "    print(' '.join(display))\n",
    "    print(f\"Chances left: {chances}\")\n",
    "    print(f\"Guessed letters: {' '.join(sorted(guessed_letters))}\")\n",
    "    \n",
    "    user_input = input('Choose a letter: ').lower()\n",
    "    \n",
    "    if len(user_input) != 1 or not user_input.isalpha():\n",
    "        print(\"Please enter a single letter.\")\n",
    "        continue\n",
    "    \n",
    "    if user_input in guessed_letters:\n",
    "        print(\"You've already guessed that letter. Try again.\")\n",
    "        continue\n",
    "    \n",
    "    guessed_letters.add(user_input)\n",
    "    \n",
    "    if user_input in random_word:\n",
    "        for i in range(word_length):\n",
    "            if random_word[i] == user_input:\n",
    "                display[i] = user_input\n",
    "        print(\"Good guess!\")\n",
    "    else:\n",
    "        chances -= 1\n",
    "        print(\"Wrong guess.\")\n",
    "\n",
    "if '_' not in display:\n",
    "    print(\"Congratulations! You've guessed the word:\", random_word)\n",
    "else:\n",
    "    print(\"Game over. The word was:\", random_word)"
   ]
  },
  {
   "cell_type": "code",
   "execution_count": null,
   "metadata": {},
   "outputs": [],
   "source": []
  }
 ],
 "metadata": {
  "kernelspec": {
   "display_name": "base",
   "language": "python",
   "name": "python3"
  },
  "language_info": {
   "codemirror_mode": {
    "name": "ipython",
    "version": 3
   },
   "file_extension": ".py",
   "mimetype": "text/x-python",
   "name": "python",
   "nbconvert_exporter": "python",
   "pygments_lexer": "ipython3",
   "version": "3.12.4"
  }
 },
 "nbformat": 4,
 "nbformat_minor": 2
}
